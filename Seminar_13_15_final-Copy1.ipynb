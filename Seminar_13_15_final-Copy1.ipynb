{
 "cells": [
  {
   "cell_type": "markdown",
   "metadata": {
    "id": "pd1QWnyRQBPS"
   },
   "source": [
    "# Package Download"
   ]
  },
  {
   "cell_type": "code",
   "execution_count": 1,
   "metadata": {
    "id": "Qf_Y25XoP1ZI"
   },
   "outputs": [
    {
     "data": {
      "text/plain": [
       "'#from google.colab import output\\n!pip install yahooquery\\n!pip install yfinance\\n!pip install pykalman\\n#output.clear()'"
      ]
     },
     "execution_count": 1,
     "metadata": {},
     "output_type": "execute_result"
    }
   ],
   "source": [
    "'''#from google.colab import output\n",
    "!pip install yahooquery\n",
    "!pip install yfinance\n",
    "!pip install pykalman\n",
    "#output.clear()'''"
   ]
  },
  {
   "cell_type": "markdown",
   "metadata": {
    "id": "34BbkxSnQGKS"
   },
   "source": [
    "# Import Package"
   ]
  },
  {
   "cell_type": "code",
   "execution_count": 2,
   "metadata": {
    "id": "k4Np6ZV_QArF"
   },
   "outputs": [],
   "source": [
    "import numpy as np\n",
    "import pandas as pd\n",
    "import datetime\n",
    "import yfinance as yf\n",
    "import matplotlib.pyplot as plt\n",
    "import math\n",
    "import os\n",
    "import warnings\n",
    "from tqdm import tqdm\n",
    "\n",
    "import statsmodels.tsa.vector_ar.vecm as vm\n",
    "from statsmodels.tsa.stattools import adfuller\n",
    "\n",
    "import yahooquery as yq\n",
    "import yfinance as yf\n",
    "\n",
    "import heapq\n",
    "import operator\n",
    "import matplotlib.cm as cm\n",
    "import statsmodels.api as sm\n",
    "import statsmodels.formula.api as smf\n",
    "import statsmodels.tsa.stattools as ts\n",
    "from sklearn.cluster import KMeans, DBSCAN\n",
    "from sklearn.decomposition import PCA\n",
    "from sklearn.manifold import TSNE\n",
    "from sklearn import preprocessing\n",
    "from pykalman import KalmanFilter\n",
    "from statsmodels.tsa.stattools import coint\n",
    "from scipy import stats\n",
    "import itertools\n",
    "%matplotlib inline\n",
    "import warnings\n",
    "warnings.filterwarnings('ignore')\n",
    "\n",
    "#output.clear()\n",
    "#os.chdir(\"/content/drive/My Drive\")\n",
    "\n",
    "%matplotlib inline"
   ]
  },
  {
   "cell_type": "markdown",
   "metadata": {
    "id": "23yxS6CKZMcz"
   },
   "source": [
    "# Settings"
   ]
  },
  {
   "cell_type": "code",
   "execution_count": 3,
   "metadata": {
    "id": "OlUB4M01ZMEn"
   },
   "outputs": [],
   "source": [
    "# Period\n",
    "\n",
    "StartDate = '2013-01-01'\n",
    "EndDate = \"2015-01-01\"\n",
    "\n",
    "#\n",
    "PCA_components = 50\n",
    "\n",
    "# Cluster size limit\n",
    "CLUSTER_SIZE_LIMIT = 9999\n",
    "#df size\n",
    "n=1000\n",
    "# \n",
    "now = True\n",
    "filterTopStocks = True\n",
    "#checkADF = True\n",
    "leverage = 1\n",
    "useNegativePairs = True\n",
    "longOnly = False\n",
    "minSectorLen = 0\n",
    "minPairCorrel = 0.0\n",
    "### ret ved machine leaning\n",
    "\n",
    "mach = True\n",
    "riskFreeYearRet = 0.03 # erstat med sveny \n",
    "pairAmount = 10000\n",
    "cost = 0.0008"
   ]
  },
  {
   "cell_type": "markdown",
   "metadata": {
    "id": "3X5fcW64WPUh"
   },
   "source": [
    "# Insert google Drive"
   ]
  },
  {
   "cell_type": "code",
   "execution_count": 4,
   "metadata": {
    "id": "GdggJAxDWx7t"
   },
   "outputs": [],
   "source": [
    "Russel3000_tickers = [*pd.read_csv('ticker.csv', index_col=0).iloc[:, 0]]"
   ]
  },
  {
   "cell_type": "code",
   "execution_count": 5,
   "metadata": {
    "id": "asvQodHlWWft"
   },
   "outputs": [],
   "source": [
    "#data = yf.download(Russel3000_tickers, start='2010-01-01', end='2021-01-01')['Close']\n",
    "#output.clear()"
   ]
  },
  {
   "cell_type": "code",
   "execution_count": 6,
   "metadata": {
    "id": "QNYo7hSXXoil"
   },
   "outputs": [],
   "source": [
    "#Price = data.iloc[1:, 10:].fillna(0)\n",
    "#Price.to_csv('russel3000_allstonks_2010_2021.csv')"
   ]
  },
  {
   "cell_type": "markdown",
   "metadata": {
    "id": "siC6SO7OXuLf"
   },
   "source": [
    "# Downloading Benchmark"
   ]
  },
  {
   "cell_type": "code",
   "execution_count": 7,
   "metadata": {
    "id": "xaZNbXGYXwjp"
   },
   "outputs": [],
   "source": [
    "#Russell = yf.download('IWV', start='2010-01-01', end='2021-01-01')['Adj Close']\n",
    "# Russell.to_csv('Russell_index_ETF_2010_2021.csv')"
   ]
  },
  {
   "cell_type": "markdown",
   "metadata": {
    "id": "ieHwx1rDyytB"
   },
   "source": [
    "# Download Data"
   ]
  },
  {
   "cell_type": "code",
   "execution_count": 8,
   "metadata": {},
   "outputs": [],
   "source": [
    "tic = pd.read_csv('ticker-ticker.csv', index_col = 0)\n",
    "#tic = tic.iloc(tic['marketcap'] 100)\n",
    "tic=tic.iloc[:n,0]\n",
    "\n",
    "tic = list(tic.index)\n"
   ]
  },
  {
   "cell_type": "code",
   "execution_count": null,
   "metadata": {},
   "outputs": [],
   "source": [
    "\n"
   ]
  },
  {
   "cell_type": "code",
   "execution_count": 9,
   "metadata": {
    "id": "lhLROTTAy0s5"
   },
   "outputs": [],
   "source": [
    "Price = pd.read_csv('russel3000_allstonks_2010_2021.csv', index_col = 0)\n",
    "Russell = pd.read_csv('Russell_index_ETF_2010_2021.csv', index_col = 0)"
   ]
  },
  {
   "cell_type": "markdown",
   "metadata": {
    "id": "or5RZ9ELX5r-"
   },
   "source": [
    "### Visual inspection of DataFrame"
   ]
  },
  {
   "cell_type": "code",
   "execution_count": 10,
   "metadata": {
    "colab": {
     "base_uri": "https://localhost:8080/"
    },
    "id": "Ph34XAeFX-_E",
    "outputId": "a65cba72-d09e-42a9-cd1c-33e323623292"
   },
   "outputs": [
    {
     "name": "stdout",
     "output_type": "stream",
     "text": [
      "Start of DataFrame 2010-01-04 00:00:00, end of DataFrame 2020-12-31 00:00:00\n"
     ]
    }
   ],
   "source": [
    "print(f'Start of DataFrame {Price.index[0]}, end of DataFrame {Price.index[-1]}')"
   ]
  },
  {
   "cell_type": "code",
   "execution_count": 11,
   "metadata": {
    "colab": {
     "base_uri": "https://localhost:8080/"
    },
    "id": "tR30aeQM_GbH",
    "outputId": "18754e43-1953-42d8-cfec-d95bd81e0b24"
   },
   "outputs": [
    {
     "name": "stdout",
     "output_type": "stream",
     "text": [
      "Start of DataFrame 2009-12-31, end of DataFrame 2020-12-31\n"
     ]
    }
   ],
   "source": [
    "print(f'Start of DataFrame {Russell.index[0]}, end of DataFrame {Russell.index[-1]}')"
   ]
  },
  {
   "cell_type": "markdown",
   "metadata": {
    "id": "EUu-XdNCYSmp"
   },
   "source": [
    "### Setting date as index"
   ]
  },
  {
   "cell_type": "markdown",
   "metadata": {
    "id": "xrIzNgJwYtCj"
   },
   "source": [
    "# Daily returns calculation"
   ]
  },
  {
   "cell_type": "code",
   "execution_count": 12,
   "metadata": {
    "colab": {
     "base_uri": "https://localhost:8080/",
     "height": 630
    },
    "id": "hAZxST5yYvOW",
    "outputId": "6bf1d31c-4cff-48af-a0b5-216286e3c7d9",
    "scrolled": true
   },
   "outputs": [
    {
     "data": {
      "text/html": [
       "<div>\n",
       "<style scoped>\n",
       "    .dataframe tbody tr th:only-of-type {\n",
       "        vertical-align: middle;\n",
       "    }\n",
       "\n",
       "    .dataframe tbody tr th {\n",
       "        vertical-align: top;\n",
       "    }\n",
       "\n",
       "    .dataframe thead th {\n",
       "        text-align: right;\n",
       "    }\n",
       "</style>\n",
       "<table border=\"1\" class=\"dataframe\">\n",
       "  <thead>\n",
       "    <tr style=\"text-align: right;\">\n",
       "      <th></th>\n",
       "      <th>MSFT</th>\n",
       "      <th>AAPL</th>\n",
       "      <th>GOOG</th>\n",
       "      <th>AMZN</th>\n",
       "      <th>TSLA</th>\n",
       "      <th>FB</th>\n",
       "      <th>NVDA</th>\n",
       "      <th>JPM</th>\n",
       "      <th>V</th>\n",
       "      <th>JNJ</th>\n",
       "      <th>...</th>\n",
       "      <th>AMKR</th>\n",
       "      <th>PACW</th>\n",
       "      <th>HFC</th>\n",
       "      <th>MAN</th>\n",
       "      <th>TFSL</th>\n",
       "      <th>IRDM</th>\n",
       "      <th>SPWR</th>\n",
       "      <th>FLO</th>\n",
       "      <th>SLM</th>\n",
       "      <th>NFG</th>\n",
       "    </tr>\n",
       "    <tr>\n",
       "      <th>Date</th>\n",
       "      <th></th>\n",
       "      <th></th>\n",
       "      <th></th>\n",
       "      <th></th>\n",
       "      <th></th>\n",
       "      <th></th>\n",
       "      <th></th>\n",
       "      <th></th>\n",
       "      <th></th>\n",
       "      <th></th>\n",
       "      <th></th>\n",
       "      <th></th>\n",
       "      <th></th>\n",
       "      <th></th>\n",
       "      <th></th>\n",
       "      <th></th>\n",
       "      <th></th>\n",
       "      <th></th>\n",
       "      <th></th>\n",
       "      <th></th>\n",
       "      <th></th>\n",
       "    </tr>\n",
       "  </thead>\n",
       "  <tbody>\n",
       "    <tr>\n",
       "      <th>2013-01-03 00:00:00</th>\n",
       "      <td>-0.013396</td>\n",
       "      <td>-0.012622</td>\n",
       "      <td>0.000581</td>\n",
       "      <td>0.004547</td>\n",
       "      <td>-0.016686</td>\n",
       "      <td>-0.008214</td>\n",
       "      <td>0.000786</td>\n",
       "      <td>-0.002015</td>\n",
       "      <td>0.000772</td>\n",
       "      <td>-0.001412</td>\n",
       "      <td>...</td>\n",
       "      <td>0.000000</td>\n",
       "      <td>0.028306</td>\n",
       "      <td>-0.044197</td>\n",
       "      <td>0.012187</td>\n",
       "      <td>0.017312</td>\n",
       "      <td>0.028486</td>\n",
       "      <td>0.479609</td>\n",
       "      <td>0.042875</td>\n",
       "      <td>-0.002874</td>\n",
       "      <td>0.000393</td>\n",
       "    </tr>\n",
       "    <tr>\n",
       "      <th>2013-01-04 00:00:00</th>\n",
       "      <td>-0.018716</td>\n",
       "      <td>-0.027855</td>\n",
       "      <td>0.019760</td>\n",
       "      <td>0.002592</td>\n",
       "      <td>-0.010641</td>\n",
       "      <td>0.035650</td>\n",
       "      <td>0.032993</td>\n",
       "      <td>0.017725</td>\n",
       "      <td>0.008167</td>\n",
       "      <td>0.011450</td>\n",
       "      <td>...</td>\n",
       "      <td>0.058559</td>\n",
       "      <td>0.002262</td>\n",
       "      <td>-0.004489</td>\n",
       "      <td>0.019309</td>\n",
       "      <td>0.005005</td>\n",
       "      <td>0.000000</td>\n",
       "      <td>-0.037486</td>\n",
       "      <td>0.009674</td>\n",
       "      <td>0.008645</td>\n",
       "      <td>0.002552</td>\n",
       "    </tr>\n",
       "    <tr>\n",
       "      <th>2013-01-07 00:00:00</th>\n",
       "      <td>-0.001870</td>\n",
       "      <td>-0.005882</td>\n",
       "      <td>-0.004363</td>\n",
       "      <td>0.035925</td>\n",
       "      <td>-0.001744</td>\n",
       "      <td>0.022949</td>\n",
       "      <td>-0.028897</td>\n",
       "      <td>0.001102</td>\n",
       "      <td>0.007144</td>\n",
       "      <td>-0.002096</td>\n",
       "      <td>...</td>\n",
       "      <td>0.000000</td>\n",
       "      <td>0.004138</td>\n",
       "      <td>-0.032469</td>\n",
       "      <td>-0.007355</td>\n",
       "      <td>-0.009960</td>\n",
       "      <td>0.010204</td>\n",
       "      <td>-0.126002</td>\n",
       "      <td>0.001198</td>\n",
       "      <td>-0.006286</td>\n",
       "      <td>-0.024085</td>\n",
       "    </tr>\n",
       "    <tr>\n",
       "      <th>2013-01-08 00:00:00</th>\n",
       "      <td>-0.005245</td>\n",
       "      <td>0.002691</td>\n",
       "      <td>-0.001974</td>\n",
       "      <td>-0.007748</td>\n",
       "      <td>-0.019220</td>\n",
       "      <td>-0.012237</td>\n",
       "      <td>-0.021926</td>\n",
       "      <td>0.001982</td>\n",
       "      <td>0.009310</td>\n",
       "      <td>0.000140</td>\n",
       "      <td>...</td>\n",
       "      <td>-0.029787</td>\n",
       "      <td>-0.001873</td>\n",
       "      <td>0.014216</td>\n",
       "      <td>0.002245</td>\n",
       "      <td>0.004024</td>\n",
       "      <td>-0.024531</td>\n",
       "      <td>0.047182</td>\n",
       "      <td>-0.006380</td>\n",
       "      <td>0.002875</td>\n",
       "      <td>-0.006621</td>\n",
       "    </tr>\n",
       "    <tr>\n",
       "      <th>2013-01-09 00:00:00</th>\n",
       "      <td>0.005650</td>\n",
       "      <td>-0.015629</td>\n",
       "      <td>0.006573</td>\n",
       "      <td>-0.000113</td>\n",
       "      <td>-0.001188</td>\n",
       "      <td>0.052650</td>\n",
       "      <td>-0.022418</td>\n",
       "      <td>-0.000659</td>\n",
       "      <td>0.015248</td>\n",
       "      <td>0.004481</td>\n",
       "      <td>...</td>\n",
       "      <td>0.004386</td>\n",
       "      <td>0.003003</td>\n",
       "      <td>0.005055</td>\n",
       "      <td>0.007168</td>\n",
       "      <td>0.000000</td>\n",
       "      <td>0.036982</td>\n",
       "      <td>0.020025</td>\n",
       "      <td>-0.002006</td>\n",
       "      <td>0.006881</td>\n",
       "      <td>-0.012321</td>\n",
       "    </tr>\n",
       "    <tr>\n",
       "      <th>...</th>\n",
       "      <td>...</td>\n",
       "      <td>...</td>\n",
       "      <td>...</td>\n",
       "      <td>...</td>\n",
       "      <td>...</td>\n",
       "      <td>...</td>\n",
       "      <td>...</td>\n",
       "      <td>...</td>\n",
       "      <td>...</td>\n",
       "      <td>...</td>\n",
       "      <td>...</td>\n",
       "      <td>...</td>\n",
       "      <td>...</td>\n",
       "      <td>...</td>\n",
       "      <td>...</td>\n",
       "      <td>...</td>\n",
       "      <td>...</td>\n",
       "      <td>...</td>\n",
       "      <td>...</td>\n",
       "      <td>...</td>\n",
       "      <td>...</td>\n",
       "    </tr>\n",
       "    <tr>\n",
       "      <th>2013-12-24 00:00:00</th>\n",
       "      <td>0.012562</td>\n",
       "      <td>-0.004245</td>\n",
       "      <td>-0.002923</td>\n",
       "      <td>-0.009233</td>\n",
       "      <td>0.054754</td>\n",
       "      <td>0.003289</td>\n",
       "      <td>0.002535</td>\n",
       "      <td>0.000172</td>\n",
       "      <td>0.003211</td>\n",
       "      <td>0.000326</td>\n",
       "      <td>...</td>\n",
       "      <td>0.000000</td>\n",
       "      <td>-0.003740</td>\n",
       "      <td>-0.001215</td>\n",
       "      <td>0.006659</td>\n",
       "      <td>-0.006568</td>\n",
       "      <td>-0.012289</td>\n",
       "      <td>-0.007160</td>\n",
       "      <td>0.005674</td>\n",
       "      <td>0.003854</td>\n",
       "      <td>0.005748</td>\n",
       "    </tr>\n",
       "    <tr>\n",
       "      <th>2013-12-26 00:00:00</th>\n",
       "      <td>0.009709</td>\n",
       "      <td>-0.006641</td>\n",
       "      <td>0.005055</td>\n",
       "      <td>0.013001</td>\n",
       "      <td>0.027013</td>\n",
       "      <td>-0.003968</td>\n",
       "      <td>-0.009482</td>\n",
       "      <td>-0.000858</td>\n",
       "      <td>0.006721</td>\n",
       "      <td>0.005214</td>\n",
       "      <td>...</td>\n",
       "      <td>-0.001707</td>\n",
       "      <td>-0.004223</td>\n",
       "      <td>0.005878</td>\n",
       "      <td>0.005686</td>\n",
       "      <td>0.000826</td>\n",
       "      <td>0.003110</td>\n",
       "      <td>0.009272</td>\n",
       "      <td>-0.000470</td>\n",
       "      <td>0.000000</td>\n",
       "      <td>-0.006970</td>\n",
       "    </tr>\n",
       "    <tr>\n",
       "      <th>2013-12-27 00:00:00</th>\n",
       "      <td>-0.004006</td>\n",
       "      <td>-0.006757</td>\n",
       "      <td>0.000841</td>\n",
       "      <td>-0.015604</td>\n",
       "      <td>-0.028167</td>\n",
       "      <td>-0.039667</td>\n",
       "      <td>0.005743</td>\n",
       "      <td>-0.001031</td>\n",
       "      <td>-0.002407</td>\n",
       "      <td>-0.002053</td>\n",
       "      <td>...</td>\n",
       "      <td>-0.001709</td>\n",
       "      <td>-0.010132</td>\n",
       "      <td>-0.006649</td>\n",
       "      <td>-0.002770</td>\n",
       "      <td>-0.001651</td>\n",
       "      <td>0.001550</td>\n",
       "      <td>-0.016332</td>\n",
       "      <td>0.003293</td>\n",
       "      <td>-0.001535</td>\n",
       "      <td>0.003088</td>\n",
       "    </tr>\n",
       "    <tr>\n",
       "      <th>2013-12-30 00:00:00</th>\n",
       "      <td>0.000000</td>\n",
       "      <td>-0.009945</td>\n",
       "      <td>-0.007994</td>\n",
       "      <td>-0.011832</td>\n",
       "      <td>0.008735</td>\n",
       "      <td>-0.031205</td>\n",
       "      <td>0.013325</td>\n",
       "      <td>-0.003268</td>\n",
       "      <td>0.005645</td>\n",
       "      <td>-0.000541</td>\n",
       "      <td>...</td>\n",
       "      <td>0.044521</td>\n",
       "      <td>-0.003333</td>\n",
       "      <td>-0.011562</td>\n",
       "      <td>0.001620</td>\n",
       "      <td>0.000000</td>\n",
       "      <td>-0.026316</td>\n",
       "      <td>0.045313</td>\n",
       "      <td>0.011252</td>\n",
       "      <td>0.002307</td>\n",
       "      <td>-0.006017</td>\n",
       "    </tr>\n",
       "    <tr>\n",
       "      <th>2013-12-31 00:00:00</th>\n",
       "      <td>0.003218</td>\n",
       "      <td>0.011722</td>\n",
       "      <td>0.010140</td>\n",
       "      <td>0.013778</td>\n",
       "      <td>-0.013186</td>\n",
       "      <td>0.017501</td>\n",
       "      <td>0.003131</td>\n",
       "      <td>0.009146</td>\n",
       "      <td>0.008012</td>\n",
       "      <td>-0.007692</td>\n",
       "      <td>...</td>\n",
       "      <td>0.004918</td>\n",
       "      <td>0.008359</td>\n",
       "      <td>0.019700</td>\n",
       "      <td>-0.008087</td>\n",
       "      <td>0.002481</td>\n",
       "      <td>-0.006359</td>\n",
       "      <td>-0.013567</td>\n",
       "      <td>-0.004636</td>\n",
       "      <td>0.008055</td>\n",
       "      <td>0.005209</td>\n",
       "    </tr>\n",
       "  </tbody>\n",
       "</table>\n",
       "<p>251 rows × 750 columns</p>\n",
       "</div>"
      ],
      "text/plain": [
       "                         MSFT      AAPL      GOOG      AMZN      TSLA  \\\n",
       "Date                                                                    \n",
       "2013-01-03 00:00:00 -0.013396 -0.012622  0.000581  0.004547 -0.016686   \n",
       "2013-01-04 00:00:00 -0.018716 -0.027855  0.019760  0.002592 -0.010641   \n",
       "2013-01-07 00:00:00 -0.001870 -0.005882 -0.004363  0.035925 -0.001744   \n",
       "2013-01-08 00:00:00 -0.005245  0.002691 -0.001974 -0.007748 -0.019220   \n",
       "2013-01-09 00:00:00  0.005650 -0.015629  0.006573 -0.000113 -0.001188   \n",
       "...                       ...       ...       ...       ...       ...   \n",
       "2013-12-24 00:00:00  0.012562 -0.004245 -0.002923 -0.009233  0.054754   \n",
       "2013-12-26 00:00:00  0.009709 -0.006641  0.005055  0.013001  0.027013   \n",
       "2013-12-27 00:00:00 -0.004006 -0.006757  0.000841 -0.015604 -0.028167   \n",
       "2013-12-30 00:00:00  0.000000 -0.009945 -0.007994 -0.011832  0.008735   \n",
       "2013-12-31 00:00:00  0.003218  0.011722  0.010140  0.013778 -0.013186   \n",
       "\n",
       "                           FB      NVDA       JPM         V       JNJ  ...  \\\n",
       "Date                                                                   ...   \n",
       "2013-01-03 00:00:00 -0.008214  0.000786 -0.002015  0.000772 -0.001412  ...   \n",
       "2013-01-04 00:00:00  0.035650  0.032993  0.017725  0.008167  0.011450  ...   \n",
       "2013-01-07 00:00:00  0.022949 -0.028897  0.001102  0.007144 -0.002096  ...   \n",
       "2013-01-08 00:00:00 -0.012237 -0.021926  0.001982  0.009310  0.000140  ...   \n",
       "2013-01-09 00:00:00  0.052650 -0.022418 -0.000659  0.015248  0.004481  ...   \n",
       "...                       ...       ...       ...       ...       ...  ...   \n",
       "2013-12-24 00:00:00  0.003289  0.002535  0.000172  0.003211  0.000326  ...   \n",
       "2013-12-26 00:00:00 -0.003968 -0.009482 -0.000858  0.006721  0.005214  ...   \n",
       "2013-12-27 00:00:00 -0.039667  0.005743 -0.001031 -0.002407 -0.002053  ...   \n",
       "2013-12-30 00:00:00 -0.031205  0.013325 -0.003268  0.005645 -0.000541  ...   \n",
       "2013-12-31 00:00:00  0.017501  0.003131  0.009146  0.008012 -0.007692  ...   \n",
       "\n",
       "                         AMKR      PACW       HFC       MAN      TFSL  \\\n",
       "Date                                                                    \n",
       "2013-01-03 00:00:00  0.000000  0.028306 -0.044197  0.012187  0.017312   \n",
       "2013-01-04 00:00:00  0.058559  0.002262 -0.004489  0.019309  0.005005   \n",
       "2013-01-07 00:00:00  0.000000  0.004138 -0.032469 -0.007355 -0.009960   \n",
       "2013-01-08 00:00:00 -0.029787 -0.001873  0.014216  0.002245  0.004024   \n",
       "2013-01-09 00:00:00  0.004386  0.003003  0.005055  0.007168  0.000000   \n",
       "...                       ...       ...       ...       ...       ...   \n",
       "2013-12-24 00:00:00  0.000000 -0.003740 -0.001215  0.006659 -0.006568   \n",
       "2013-12-26 00:00:00 -0.001707 -0.004223  0.005878  0.005686  0.000826   \n",
       "2013-12-27 00:00:00 -0.001709 -0.010132 -0.006649 -0.002770 -0.001651   \n",
       "2013-12-30 00:00:00  0.044521 -0.003333 -0.011562  0.001620  0.000000   \n",
       "2013-12-31 00:00:00  0.004918  0.008359  0.019700 -0.008087  0.002481   \n",
       "\n",
       "                         IRDM      SPWR       FLO       SLM       NFG  \n",
       "Date                                                                   \n",
       "2013-01-03 00:00:00  0.028486  0.479609  0.042875 -0.002874  0.000393  \n",
       "2013-01-04 00:00:00  0.000000 -0.037486  0.009674  0.008645  0.002552  \n",
       "2013-01-07 00:00:00  0.010204 -0.126002  0.001198 -0.006286 -0.024085  \n",
       "2013-01-08 00:00:00 -0.024531  0.047182 -0.006380  0.002875 -0.006621  \n",
       "2013-01-09 00:00:00  0.036982  0.020025 -0.002006  0.006881 -0.012321  \n",
       "...                       ...       ...       ...       ...       ...  \n",
       "2013-12-24 00:00:00 -0.012289 -0.007160  0.005674  0.003854  0.005748  \n",
       "2013-12-26 00:00:00  0.003110  0.009272 -0.000470  0.000000 -0.006970  \n",
       "2013-12-27 00:00:00  0.001550 -0.016332  0.003293 -0.001535  0.003088  \n",
       "2013-12-30 00:00:00 -0.026316  0.045313  0.011252  0.002307 -0.006017  \n",
       "2013-12-31 00:00:00 -0.006359 -0.013567 -0.004636  0.008055  0.005209  \n",
       "\n",
       "[251 rows x 750 columns]"
      ]
     },
     "execution_count": 12,
     "metadata": {},
     "output_type": "execute_result"
    }
   ],
   "source": [
    "# daily return dataframe\n",
    "#df_ret = Price.pct_change().iloc[1:, :].fillna(0)\n",
    "df_ret = Price#.pct_change().iloc[1:, :].fillna(0)\n",
    "EndDate1 = '2014-01-01'\n",
    "df_ret = df_ret.loc[StartDate:EndDate1,tic]\n",
    "#\n",
    "df_ret = df_ret.fillna(method='ffill')\n",
    "df_ret = df_ret[df_ret.values.sum(axis=1) != 0]\n",
    "df_ret = df_ret.loc[:, ~(df_ret == 0).any()]\n",
    "df_ret = df_ret.pct_change().iloc[1:, :].fillna(0)\n",
    "df_ret"
   ]
  },
  {
   "cell_type": "markdown",
   "metadata": {
    "id": "xI6L3pWrYyQ0"
   },
   "source": [
    "# Collecting 5 years of data for clustering"
   ]
  },
  {
   "cell_type": "code",
   "execution_count": 13,
   "metadata": {
    "colab": {
     "base_uri": "https://localhost:8080/",
     "height": 630
    },
    "id": "5BMfyMcXYxxN",
    "outputId": "0fd86256-f116-4479-e81b-0ab0cb35fb2c"
   },
   "outputs": [
    {
     "data": {
      "text/html": [
       "<div>\n",
       "<style scoped>\n",
       "    .dataframe tbody tr th:only-of-type {\n",
       "        vertical-align: middle;\n",
       "    }\n",
       "\n",
       "    .dataframe tbody tr th {\n",
       "        vertical-align: top;\n",
       "    }\n",
       "\n",
       "    .dataframe thead th {\n",
       "        text-align: right;\n",
       "    }\n",
       "</style>\n",
       "<table border=\"1\" class=\"dataframe\">\n",
       "  <thead>\n",
       "    <tr style=\"text-align: right;\">\n",
       "      <th></th>\n",
       "      <th>MSFT</th>\n",
       "      <th>AAPL</th>\n",
       "      <th>GOOG</th>\n",
       "      <th>AMZN</th>\n",
       "      <th>TSLA</th>\n",
       "      <th>FB</th>\n",
       "      <th>NVDA</th>\n",
       "      <th>JPM</th>\n",
       "      <th>V</th>\n",
       "      <th>JNJ</th>\n",
       "      <th>...</th>\n",
       "      <th>AMKR</th>\n",
       "      <th>PACW</th>\n",
       "      <th>HFC</th>\n",
       "      <th>MAN</th>\n",
       "      <th>TFSL</th>\n",
       "      <th>IRDM</th>\n",
       "      <th>SPWR</th>\n",
       "      <th>FLO</th>\n",
       "      <th>SLM</th>\n",
       "      <th>NFG</th>\n",
       "    </tr>\n",
       "    <tr>\n",
       "      <th>Date</th>\n",
       "      <th></th>\n",
       "      <th></th>\n",
       "      <th></th>\n",
       "      <th></th>\n",
       "      <th></th>\n",
       "      <th></th>\n",
       "      <th></th>\n",
       "      <th></th>\n",
       "      <th></th>\n",
       "      <th></th>\n",
       "      <th></th>\n",
       "      <th></th>\n",
       "      <th></th>\n",
       "      <th></th>\n",
       "      <th></th>\n",
       "      <th></th>\n",
       "      <th></th>\n",
       "      <th></th>\n",
       "      <th></th>\n",
       "      <th></th>\n",
       "      <th></th>\n",
       "    </tr>\n",
       "  </thead>\n",
       "  <tbody>\n",
       "    <tr>\n",
       "      <th>2013-01-03 00:00:00</th>\n",
       "      <td>-0.013396</td>\n",
       "      <td>-0.012622</td>\n",
       "      <td>0.000581</td>\n",
       "      <td>0.004547</td>\n",
       "      <td>-0.016686</td>\n",
       "      <td>-0.008214</td>\n",
       "      <td>0.000786</td>\n",
       "      <td>-0.002015</td>\n",
       "      <td>0.000772</td>\n",
       "      <td>-0.001412</td>\n",
       "      <td>...</td>\n",
       "      <td>0.000000</td>\n",
       "      <td>0.028306</td>\n",
       "      <td>-0.044197</td>\n",
       "      <td>0.012187</td>\n",
       "      <td>0.017312</td>\n",
       "      <td>0.028486</td>\n",
       "      <td>0.479609</td>\n",
       "      <td>0.042875</td>\n",
       "      <td>-0.002874</td>\n",
       "      <td>0.000393</td>\n",
       "    </tr>\n",
       "    <tr>\n",
       "      <th>2013-01-04 00:00:00</th>\n",
       "      <td>-0.018716</td>\n",
       "      <td>-0.027855</td>\n",
       "      <td>0.019760</td>\n",
       "      <td>0.002592</td>\n",
       "      <td>-0.010641</td>\n",
       "      <td>0.035650</td>\n",
       "      <td>0.032993</td>\n",
       "      <td>0.017725</td>\n",
       "      <td>0.008167</td>\n",
       "      <td>0.011450</td>\n",
       "      <td>...</td>\n",
       "      <td>0.058559</td>\n",
       "      <td>0.002262</td>\n",
       "      <td>-0.004489</td>\n",
       "      <td>0.019309</td>\n",
       "      <td>0.005005</td>\n",
       "      <td>0.000000</td>\n",
       "      <td>-0.037486</td>\n",
       "      <td>0.009674</td>\n",
       "      <td>0.008645</td>\n",
       "      <td>0.002552</td>\n",
       "    </tr>\n",
       "    <tr>\n",
       "      <th>2013-01-07 00:00:00</th>\n",
       "      <td>-0.001870</td>\n",
       "      <td>-0.005882</td>\n",
       "      <td>-0.004363</td>\n",
       "      <td>0.035925</td>\n",
       "      <td>-0.001744</td>\n",
       "      <td>0.022949</td>\n",
       "      <td>-0.028897</td>\n",
       "      <td>0.001102</td>\n",
       "      <td>0.007144</td>\n",
       "      <td>-0.002096</td>\n",
       "      <td>...</td>\n",
       "      <td>0.000000</td>\n",
       "      <td>0.004138</td>\n",
       "      <td>-0.032469</td>\n",
       "      <td>-0.007355</td>\n",
       "      <td>-0.009960</td>\n",
       "      <td>0.010204</td>\n",
       "      <td>-0.126002</td>\n",
       "      <td>0.001198</td>\n",
       "      <td>-0.006286</td>\n",
       "      <td>-0.024085</td>\n",
       "    </tr>\n",
       "    <tr>\n",
       "      <th>2013-01-08 00:00:00</th>\n",
       "      <td>-0.005245</td>\n",
       "      <td>0.002691</td>\n",
       "      <td>-0.001974</td>\n",
       "      <td>-0.007748</td>\n",
       "      <td>-0.019220</td>\n",
       "      <td>-0.012237</td>\n",
       "      <td>-0.021926</td>\n",
       "      <td>0.001982</td>\n",
       "      <td>0.009310</td>\n",
       "      <td>0.000140</td>\n",
       "      <td>...</td>\n",
       "      <td>-0.029787</td>\n",
       "      <td>-0.001873</td>\n",
       "      <td>0.014216</td>\n",
       "      <td>0.002245</td>\n",
       "      <td>0.004024</td>\n",
       "      <td>-0.024531</td>\n",
       "      <td>0.047182</td>\n",
       "      <td>-0.006380</td>\n",
       "      <td>0.002875</td>\n",
       "      <td>-0.006621</td>\n",
       "    </tr>\n",
       "    <tr>\n",
       "      <th>2013-01-09 00:00:00</th>\n",
       "      <td>0.005650</td>\n",
       "      <td>-0.015629</td>\n",
       "      <td>0.006573</td>\n",
       "      <td>-0.000113</td>\n",
       "      <td>-0.001188</td>\n",
       "      <td>0.052650</td>\n",
       "      <td>-0.022418</td>\n",
       "      <td>-0.000659</td>\n",
       "      <td>0.015248</td>\n",
       "      <td>0.004481</td>\n",
       "      <td>...</td>\n",
       "      <td>0.004386</td>\n",
       "      <td>0.003003</td>\n",
       "      <td>0.005055</td>\n",
       "      <td>0.007168</td>\n",
       "      <td>0.000000</td>\n",
       "      <td>0.036982</td>\n",
       "      <td>0.020025</td>\n",
       "      <td>-0.002006</td>\n",
       "      <td>0.006881</td>\n",
       "      <td>-0.012321</td>\n",
       "    </tr>\n",
       "    <tr>\n",
       "      <th>...</th>\n",
       "      <td>...</td>\n",
       "      <td>...</td>\n",
       "      <td>...</td>\n",
       "      <td>...</td>\n",
       "      <td>...</td>\n",
       "      <td>...</td>\n",
       "      <td>...</td>\n",
       "      <td>...</td>\n",
       "      <td>...</td>\n",
       "      <td>...</td>\n",
       "      <td>...</td>\n",
       "      <td>...</td>\n",
       "      <td>...</td>\n",
       "      <td>...</td>\n",
       "      <td>...</td>\n",
       "      <td>...</td>\n",
       "      <td>...</td>\n",
       "      <td>...</td>\n",
       "      <td>...</td>\n",
       "      <td>...</td>\n",
       "      <td>...</td>\n",
       "    </tr>\n",
       "    <tr>\n",
       "      <th>2013-12-24 00:00:00</th>\n",
       "      <td>0.012562</td>\n",
       "      <td>-0.004245</td>\n",
       "      <td>-0.002923</td>\n",
       "      <td>-0.009233</td>\n",
       "      <td>0.054754</td>\n",
       "      <td>0.003289</td>\n",
       "      <td>0.002535</td>\n",
       "      <td>0.000172</td>\n",
       "      <td>0.003211</td>\n",
       "      <td>0.000326</td>\n",
       "      <td>...</td>\n",
       "      <td>0.000000</td>\n",
       "      <td>-0.003740</td>\n",
       "      <td>-0.001215</td>\n",
       "      <td>0.006659</td>\n",
       "      <td>-0.006568</td>\n",
       "      <td>-0.012289</td>\n",
       "      <td>-0.007160</td>\n",
       "      <td>0.005674</td>\n",
       "      <td>0.003854</td>\n",
       "      <td>0.005748</td>\n",
       "    </tr>\n",
       "    <tr>\n",
       "      <th>2013-12-26 00:00:00</th>\n",
       "      <td>0.009709</td>\n",
       "      <td>-0.006641</td>\n",
       "      <td>0.005055</td>\n",
       "      <td>0.013001</td>\n",
       "      <td>0.027013</td>\n",
       "      <td>-0.003968</td>\n",
       "      <td>-0.009482</td>\n",
       "      <td>-0.000858</td>\n",
       "      <td>0.006721</td>\n",
       "      <td>0.005214</td>\n",
       "      <td>...</td>\n",
       "      <td>-0.001707</td>\n",
       "      <td>-0.004223</td>\n",
       "      <td>0.005878</td>\n",
       "      <td>0.005686</td>\n",
       "      <td>0.000826</td>\n",
       "      <td>0.003110</td>\n",
       "      <td>0.009272</td>\n",
       "      <td>-0.000470</td>\n",
       "      <td>0.000000</td>\n",
       "      <td>-0.006970</td>\n",
       "    </tr>\n",
       "    <tr>\n",
       "      <th>2013-12-27 00:00:00</th>\n",
       "      <td>-0.004006</td>\n",
       "      <td>-0.006757</td>\n",
       "      <td>0.000841</td>\n",
       "      <td>-0.015604</td>\n",
       "      <td>-0.028167</td>\n",
       "      <td>-0.039667</td>\n",
       "      <td>0.005743</td>\n",
       "      <td>-0.001031</td>\n",
       "      <td>-0.002407</td>\n",
       "      <td>-0.002053</td>\n",
       "      <td>...</td>\n",
       "      <td>-0.001709</td>\n",
       "      <td>-0.010132</td>\n",
       "      <td>-0.006649</td>\n",
       "      <td>-0.002770</td>\n",
       "      <td>-0.001651</td>\n",
       "      <td>0.001550</td>\n",
       "      <td>-0.016332</td>\n",
       "      <td>0.003293</td>\n",
       "      <td>-0.001535</td>\n",
       "      <td>0.003088</td>\n",
       "    </tr>\n",
       "    <tr>\n",
       "      <th>2013-12-30 00:00:00</th>\n",
       "      <td>0.000000</td>\n",
       "      <td>-0.009945</td>\n",
       "      <td>-0.007994</td>\n",
       "      <td>-0.011832</td>\n",
       "      <td>0.008735</td>\n",
       "      <td>-0.031205</td>\n",
       "      <td>0.013325</td>\n",
       "      <td>-0.003268</td>\n",
       "      <td>0.005645</td>\n",
       "      <td>-0.000541</td>\n",
       "      <td>...</td>\n",
       "      <td>0.044521</td>\n",
       "      <td>-0.003333</td>\n",
       "      <td>-0.011562</td>\n",
       "      <td>0.001620</td>\n",
       "      <td>0.000000</td>\n",
       "      <td>-0.026316</td>\n",
       "      <td>0.045313</td>\n",
       "      <td>0.011252</td>\n",
       "      <td>0.002307</td>\n",
       "      <td>-0.006017</td>\n",
       "    </tr>\n",
       "    <tr>\n",
       "      <th>2013-12-31 00:00:00</th>\n",
       "      <td>0.003218</td>\n",
       "      <td>0.011722</td>\n",
       "      <td>0.010140</td>\n",
       "      <td>0.013778</td>\n",
       "      <td>-0.013186</td>\n",
       "      <td>0.017501</td>\n",
       "      <td>0.003131</td>\n",
       "      <td>0.009146</td>\n",
       "      <td>0.008012</td>\n",
       "      <td>-0.007692</td>\n",
       "      <td>...</td>\n",
       "      <td>0.004918</td>\n",
       "      <td>0.008359</td>\n",
       "      <td>0.019700</td>\n",
       "      <td>-0.008087</td>\n",
       "      <td>0.002481</td>\n",
       "      <td>-0.006359</td>\n",
       "      <td>-0.013567</td>\n",
       "      <td>-0.004636</td>\n",
       "      <td>0.008055</td>\n",
       "      <td>0.005209</td>\n",
       "    </tr>\n",
       "  </tbody>\n",
       "</table>\n",
       "<p>251 rows × 750 columns</p>\n",
       "</div>"
      ],
      "text/plain": [
       "                         MSFT      AAPL      GOOG      AMZN      TSLA  \\\n",
       "Date                                                                    \n",
       "2013-01-03 00:00:00 -0.013396 -0.012622  0.000581  0.004547 -0.016686   \n",
       "2013-01-04 00:00:00 -0.018716 -0.027855  0.019760  0.002592 -0.010641   \n",
       "2013-01-07 00:00:00 -0.001870 -0.005882 -0.004363  0.035925 -0.001744   \n",
       "2013-01-08 00:00:00 -0.005245  0.002691 -0.001974 -0.007748 -0.019220   \n",
       "2013-01-09 00:00:00  0.005650 -0.015629  0.006573 -0.000113 -0.001188   \n",
       "...                       ...       ...       ...       ...       ...   \n",
       "2013-12-24 00:00:00  0.012562 -0.004245 -0.002923 -0.009233  0.054754   \n",
       "2013-12-26 00:00:00  0.009709 -0.006641  0.005055  0.013001  0.027013   \n",
       "2013-12-27 00:00:00 -0.004006 -0.006757  0.000841 -0.015604 -0.028167   \n",
       "2013-12-30 00:00:00  0.000000 -0.009945 -0.007994 -0.011832  0.008735   \n",
       "2013-12-31 00:00:00  0.003218  0.011722  0.010140  0.013778 -0.013186   \n",
       "\n",
       "                           FB      NVDA       JPM         V       JNJ  ...  \\\n",
       "Date                                                                   ...   \n",
       "2013-01-03 00:00:00 -0.008214  0.000786 -0.002015  0.000772 -0.001412  ...   \n",
       "2013-01-04 00:00:00  0.035650  0.032993  0.017725  0.008167  0.011450  ...   \n",
       "2013-01-07 00:00:00  0.022949 -0.028897  0.001102  0.007144 -0.002096  ...   \n",
       "2013-01-08 00:00:00 -0.012237 -0.021926  0.001982  0.009310  0.000140  ...   \n",
       "2013-01-09 00:00:00  0.052650 -0.022418 -0.000659  0.015248  0.004481  ...   \n",
       "...                       ...       ...       ...       ...       ...  ...   \n",
       "2013-12-24 00:00:00  0.003289  0.002535  0.000172  0.003211  0.000326  ...   \n",
       "2013-12-26 00:00:00 -0.003968 -0.009482 -0.000858  0.006721  0.005214  ...   \n",
       "2013-12-27 00:00:00 -0.039667  0.005743 -0.001031 -0.002407 -0.002053  ...   \n",
       "2013-12-30 00:00:00 -0.031205  0.013325 -0.003268  0.005645 -0.000541  ...   \n",
       "2013-12-31 00:00:00  0.017501  0.003131  0.009146  0.008012 -0.007692  ...   \n",
       "\n",
       "                         AMKR      PACW       HFC       MAN      TFSL  \\\n",
       "Date                                                                    \n",
       "2013-01-03 00:00:00  0.000000  0.028306 -0.044197  0.012187  0.017312   \n",
       "2013-01-04 00:00:00  0.058559  0.002262 -0.004489  0.019309  0.005005   \n",
       "2013-01-07 00:00:00  0.000000  0.004138 -0.032469 -0.007355 -0.009960   \n",
       "2013-01-08 00:00:00 -0.029787 -0.001873  0.014216  0.002245  0.004024   \n",
       "2013-01-09 00:00:00  0.004386  0.003003  0.005055  0.007168  0.000000   \n",
       "...                       ...       ...       ...       ...       ...   \n",
       "2013-12-24 00:00:00  0.000000 -0.003740 -0.001215  0.006659 -0.006568   \n",
       "2013-12-26 00:00:00 -0.001707 -0.004223  0.005878  0.005686  0.000826   \n",
       "2013-12-27 00:00:00 -0.001709 -0.010132 -0.006649 -0.002770 -0.001651   \n",
       "2013-12-30 00:00:00  0.044521 -0.003333 -0.011562  0.001620  0.000000   \n",
       "2013-12-31 00:00:00  0.004918  0.008359  0.019700 -0.008087  0.002481   \n",
       "\n",
       "                         IRDM      SPWR       FLO       SLM       NFG  \n",
       "Date                                                                   \n",
       "2013-01-03 00:00:00  0.028486  0.479609  0.042875 -0.002874  0.000393  \n",
       "2013-01-04 00:00:00  0.000000 -0.037486  0.009674  0.008645  0.002552  \n",
       "2013-01-07 00:00:00  0.010204 -0.126002  0.001198 -0.006286 -0.024085  \n",
       "2013-01-08 00:00:00 -0.024531  0.047182 -0.006380  0.002875 -0.006621  \n",
       "2013-01-09 00:00:00  0.036982  0.020025 -0.002006  0.006881 -0.012321  \n",
       "...                       ...       ...       ...       ...       ...  \n",
       "2013-12-24 00:00:00 -0.012289 -0.007160  0.005674  0.003854  0.005748  \n",
       "2013-12-26 00:00:00  0.003110  0.009272 -0.000470  0.000000 -0.006970  \n",
       "2013-12-27 00:00:00  0.001550 -0.016332  0.003293 -0.001535  0.003088  \n",
       "2013-12-30 00:00:00 -0.026316  0.045313  0.011252  0.002307 -0.006017  \n",
       "2013-12-31 00:00:00 -0.006359 -0.013567 -0.004636  0.008055  0.005209  \n",
       "\n",
       "[251 rows x 750 columns]"
      ]
     },
     "execution_count": 13,
     "metadata": {},
     "output_type": "execute_result"
    }
   ],
   "source": [
    "# 5 year return data for clustering\n",
    "df_ret_train = df_ret.fillna(0)\n",
    "df_ret_train.T.shape\n",
    "df_ret_train.replace([np.inf, -np.inf], np.nan, inplace=True)\n",
    "df_ret_train.fillna(0)"
   ]
  },
  {
   "cell_type": "code",
   "execution_count": 14,
   "metadata": {
    "colab": {
     "base_uri": "https://localhost:8080/"
    },
    "id": "LmQGNkCMY5G2",
    "outputId": "3c48fa2a-8f9d-4404-b25b-adcae680f849"
   },
   "outputs": [
    {
     "data": {
      "text/plain": [
       "PCA(n_components=50)"
      ]
     },
     "execution_count": 14,
     "metadata": {},
     "output_type": "execute_result"
    }
   ],
   "source": [
    "# PCA \n",
    "\n",
    "N_PRIN_COMPONENTS = PCA_components\n",
    "pca = PCA(n_components=N_PRIN_COMPONENTS)\n",
    "pca.fit(df_ret_train.fillna(0))"
   ]
  },
  {
   "cell_type": "code",
   "execution_count": 15,
   "metadata": {
    "id": "xBukGiLTY83a"
   },
   "outputs": [],
   "source": [
    "X = pca.components_.T"
   ]
  },
  {
   "cell_type": "code",
   "execution_count": 16,
   "metadata": {
    "colab": {
     "base_uri": "https://localhost:8080/"
    },
    "id": "1aSr0NKNY-Vo",
    "outputId": "972a8bd3-df26-4d39-a01c-494d708cd850"
   },
   "outputs": [
    {
     "name": "stdout",
     "output_type": "stream",
     "text": [
      "(750, 50)\n"
     ]
    }
   ],
   "source": [
    "# standardize data for clustering\n",
    "X = preprocessing.StandardScaler().fit_transform(X)\n",
    "print(X.shape) # 57 dimensions by adding 7 factors"
   ]
  },
  {
   "cell_type": "markdown",
   "metadata": {
    "id": "GbH21GYzZAKB"
   },
   "source": [
    "# DBSCAN"
   ]
  },
  {
   "cell_type": "code",
   "execution_count": 17,
   "metadata": {
    "colab": {
     "base_uri": "https://localhost:8080/"
    },
    "id": "qfoD7DyLZBZQ",
    "outputId": "fd848b80-f03a-4f8a-b887-d2c346dfc0ea"
   },
   "outputs": [
    {
     "name": "stdout",
     "output_type": "stream",
     "text": [
      "DBSCAN(eps=2, min_samples=3)\n"
     ]
    }
   ],
   "source": [
    "clf = DBSCAN(eps=2, min_samples=3)\n",
    "print(clf)"
   ]
  },
  {
   "cell_type": "markdown",
   "metadata": {
    "id": "EQH6m9tbZC-C"
   },
   "source": [
    "### Number of clusters"
   ]
  },
  {
   "cell_type": "code",
   "execution_count": 18,
   "metadata": {
    "colab": {
     "base_uri": "https://localhost:8080/"
    },
    "id": "suzrWxIqZFEA",
    "outputId": "5f37135f-f318-4120-9d95-53401f9204d1"
   },
   "outputs": [
    {
     "name": "stdout",
     "output_type": "stream",
     "text": [
      "\n",
      "Clusters discovered: 2\n"
     ]
    }
   ],
   "source": [
    "#labels is label values from -1 to x\n",
    "# -1 represents noisy samples that are not in clusters\n",
    "clf.fit(X)\n",
    "labels = clf.labels_\n",
    "n_clusters_ = len(set(labels)) - (1 if -1 in labels else 0) # eliminate noisy samples\n",
    "print(\"\\nClusters discovered: %d\" % n_clusters_)"
   ]
  },
  {
   "cell_type": "code",
   "execution_count": 19,
   "metadata": {
    "id": "8_vXGWxyZHzy"
   },
   "outputs": [],
   "source": [
    "clustered = clf.labels_"
   ]
  },
  {
   "cell_type": "code",
   "execution_count": 20,
   "metadata": {
    "id": "IgG3DBm6ZJCD"
   },
   "outputs": [],
   "source": [
    "# all stock with its cluster label (including -1)\n",
    "clustered_series = pd.Series(index=df_ret_train.columns, data=clustered.flatten())\n",
    "# clustered stock with its cluster label\n",
    "clustered_series_all = pd.Series(index=df_ret_train.columns, data=clustered.flatten())\n",
    "clustered_series = clustered_series[clustered_series != -1]\n"
   ]
  },
  {
   "cell_type": "code",
   "execution_count": 21,
   "metadata": {
    "colab": {
     "base_uri": "https://localhost:8080/"
    },
    "id": "1FZEHXQoZKif",
    "outputId": "89aa105f-631e-4fa4-aeae-8e63d6a98969"
   },
   "outputs": [
    {
     "name": "stdout",
     "output_type": "stream",
     "text": [
      "Clusters formed: 2\n",
      "Pairs to evaluate: 292\n"
     ]
    }
   ],
   "source": [
    "\n",
    "counts = clustered_series.value_counts()\n",
    "ticker_count_reduced = counts[(counts>1) & (counts<=CLUSTER_SIZE_LIMIT)]\n",
    "print(\"Clusters formed: %d\" % len(ticker_count_reduced))\n",
    "print(\"Pairs to evaluate: %d\" % (ticker_count_reduced*(ticker_count_reduced-1)).sum())"
   ]
  },
  {
   "cell_type": "code",
   "execution_count": 22,
   "metadata": {
    "id": "60S3vWpJZXLW"
   },
   "outputs": [],
   "source": [
    "# to plot multidimension into 2D\n",
    "X_tsne = TSNE(learning_rate=1000, perplexity=25, random_state=1337).fit_transform(X)"
   ]
  },
  {
   "cell_type": "code",
   "execution_count": 23,
   "metadata": {},
   "outputs": [],
   "source": [
    "\n",
    "w =np.where(X_tsne == X_tsne.min(axis=0)[0])\n",
    "w_ =np.where(X_tsne == X_tsne.max(axis=0)[0])\n",
    "X_tsne_ =np.delete(X_tsne, w, axis=0)\n",
    "X_tsne_ =np.delete(X_tsne_, w_, axis=0)\n",
    "#X_tsne.pop(X_tsne.max(axis=0))\n",
    "\n",
    "labels_ = np.delete(labels , w)\n",
    "labels_ = np.delete(labels_ , w_)\n",
    "clustered_series_all_ = clustered_series_all[4:]"
   ]
  },
  {
   "cell_type": "markdown",
   "metadata": {
    "id": "KatwWWT6ZYVH"
   },
   "source": [
    "### DBSCAN VISUAL"
   ]
  },
  {
   "cell_type": "code",
   "execution_count": 24,
   "metadata": {
    "colab": {
     "base_uri": "https://localhost:8080/",
     "height": 591
    },
    "id": "3xI4Ri9DZarr",
    "outputId": "c97d1f77-9df5-448f-db84-84523dc43a49"
   },
   "outputs": [
    {
     "data": {
      "image/png": "[encoded data removed]",
      "text/plain": [
       "<Figure size 1080x720 with 1 Axes>"
      ]
     },
     "metadata": {},
     "output_type": "display_data"
    }
   ],
   "source": [
    "# PLOT\n",
    "plt.figure(1, facecolor='white', figsize=(15,10))\n",
    "plt.clf()\n",
    "plt.axis('on')\n",
    "# clustered\n",
    "plt.scatter(\n",
    "X_tsne_[(labels_!=-1), 0],\n",
    "X_tsne_[(labels_!=-1), 1],\n",
    "s=100,\n",
    "alpha=0.85,\n",
    "c=labels[labels!=-1],\n",
    "cmap=cm.Paired\n",
    ")\n",
    "# unclustered in the background\n",
    "plt.scatter(\n",
    "X_tsne_[(clustered_series_all_==-1).values, 0],\n",
    "X_tsne_[(clustered_series_all_==-1).values, 1],\n",
    "s=100,\n",
    "alpha=0.05\n",
    ")\n",
    "#plt.title('T-SNE of all Stocks with DBSCAN Clusters Noted')\n",
    "plt.savefig('DB_scan_result',bbox_inches='tight')\n",
    "plt.show()"
   ]
  },
  {
   "cell_type": "markdown",
   "metadata": {
    "id": "SQUYHE8hZcoz"
   },
   "source": [
    "### Member of clusters"
   ]
  },
  {
   "cell_type": "code",
   "execution_count": 25,
   "metadata": {
    "colab": {
     "base_uri": "https://localhost:8080/",
     "height": 458
    },
    "id": "x7Nj1j4QZfxe",
    "outputId": "ede1a1e6-6695-4e2f-f2dc-001f06d55cbc"
   },
   "outputs": [
    {
     "data": {
      "image/png": "[encoded data removed]",
      "text/plain": [
       "<Figure size 864x504 with 1 Axes>"
      ]
     },
     "metadata": {
      "needs_background": "light"
     },
     "output_type": "display_data"
    }
   ],
   "source": [
    "# show number of clusters in each cluster\n",
    "plt.figure(figsize=(12,7))\n",
    "plt.barh(\n",
    "range(len(clustered_series.value_counts())), # cluster labels, y axis\n",
    "clustered_series.value_counts()\n",
    ")\n",
    "#plt.title('Cluster Member Counts')\n",
    "plt.xlabel('Stocks in Cluster')\n",
    "plt.ylabel('Cluster Number')\n",
    "plt.savefig('Cluster_members',bbox_inches='tight')\n",
    "plt.show()"
   ]
  },
  {
   "cell_type": "markdown",
   "metadata": {
    "id": "QYdJu7I2Zhj9"
   },
   "source": [
    "### Time series Graphs"
   ]
  },
  {
   "cell_type": "code",
   "execution_count": 26,
   "metadata": {
    "colab": {
     "base_uri": "https://localhost:8080/"
    },
    "id": "VLlyDt3qZjrL",
    "outputId": "293c5e17-23a2-4269-d07a-dbda5b5863b3"
   },
   "outputs": [
    {
     "name": "stdout",
     "output_type": "stream",
     "text": [
      "[1, 0]\n"
     ]
    }
   ],
   "source": [
    "# get the number of stocks in each cluster\n",
    "counts = clustered_series.value_counts()\n",
    "clusters_viz_list = list(counts[(counts < 100) & (counts > 1)].index)[::-1]\n",
    "print(clusters_viz_list)"
   ]
  },
  {
   "cell_type": "code",
   "execution_count": 27,
   "metadata": {
    "colab": {
     "base_uri": "https://localhost:8080/",
     "height": 1000
    },
    "id": "a1XCGQ-xZkuY",
    "outputId": "cb18f5d3-38d1-4678-b392-f6afcbea4c86",
    "scrolled": true
   },
   "outputs": [
    {
     "data": {
      "image/png": "[encoded data removed]",
      "text/plain": [
       "<Figure size 432x288 with 1 Axes>"
      ]
     },
     "metadata": {
      "needs_background": "light"
     },
     "output_type": "display_data"
    }
   ],
   "source": [
    "# let's visualize some clusters\n",
    "cluster_viz_list = list(counts[(counts>1)].index)[::-1]\n",
    "#fig = plt.figure(1, (7,4))\n",
    "#ax = fig.add_subplot(1,1,1)\n",
    "# plot a handful of the smallest clusters\n",
    "for clust in cluster_viz_list[1:min(len(cluster_viz_list)+3, 8)]:\n",
    "    tickers = list(clustered_series[clustered_series==clust].index)\n",
    "    means = np.log(Price.loc[StartDate:EndDate, tickers].mean())\n",
    "    data = np.log(Price.loc[StartDate:EndDate, tickers]).sub(means)\n",
    "    data.index = pd.to_datetime(data.index)\n",
    "    data.plot(title='Stock Time Series for Cluster %d' % clust, rot=45, legend=False)\n",
    "    ax1 = plt.axes()\n",
    "    x_axis = ax1.axes.get_xaxis()\n",
    "    x_axis.set_label_text('Hej')\n",
    "    x_label = x_axis.get_label()\n",
    "    x_label.set_visible(False)\n",
    "    ##ax.set_xticklabels([pandas_datetime.strftime(\"%Y-%m-%d\") for pandas_datetime in pd.to_datetime(Price.index)])\n",
    "plt.show()"
   ]
  },
  {
   "cell_type": "markdown",
   "metadata": {
    "id": "u1w-EyUZZqnT"
   },
   "source": [
    "### Optimal Pairs"
   ]
  },
  {
   "cell_type": "code",
   "execution_count": 28,
   "metadata": {
    "id": "R4xuyGrPZsVq"
   },
   "outputs": [],
   "source": [
    "'identify cointegrated pairs from clusters'\n",
    "def Cointegration(cluster, significance, start_day, end_day):\n",
    "    pair_coin = []\n",
    "    p_value = []\n",
    "    n = cluster.shape[0]\n",
    "    keys = cluster.keys()\n",
    "    for i in range(n):\n",
    "        for j in range(i+1,n):\n",
    "            asset_1 = Price.loc[start_day:end_day, keys[i]]\n",
    "            asset_2 = Price.loc[start_day:end_day, keys[j]]\n",
    "            results = sm.OLS(asset_1, asset_2).fit()\n",
    "            predict = results.predict(asset_2)\n",
    "            error = asset_1 - predict\n",
    "            ADFtest = ts.adfuller(error)\n",
    "            if ADFtest[1] < significance:\n",
    "                pair_coin.append([keys[i], keys[j]])\n",
    "                p_value.append(ADFtest[1])\n",
    "    return p_value, pair_coin"
   ]
  },
  {
   "cell_type": "code",
   "execution_count": 29,
   "metadata": {
    "colab": {
     "base_uri": "https://localhost:8080/",
     "height": 35
    },
    "id": "k0PjLjoIZtup",
    "outputId": "a923e7da-72e8-468a-ce32-8a302fca2e6a"
   },
   "outputs": [
    {
     "data": {
      "text/plain": [
       "'E_selection = False: select pairs among all the cluster cluster'"
      ]
     },
     "execution_count": 29,
     "metadata": {},
     "output_type": "execute_result"
    }
   ],
   "source": [
    "\"Pair selection method\"\n",
    "\"E_selection = True: select a pair with lowest p-value from each cluster\"\n",
    "\"E_selection = False: select pairs among all the cluster cluster\""
   ]
  },
  {
   "cell_type": "code",
   "execution_count": 30,
   "metadata": {
    "id": "A7TjsAhDZxph"
   },
   "outputs": [],
   "source": [
    "def PairSelection(clustered_series, significance, start_day, end_day, E_selection):\n",
    "    Opt_pairs = [] # to get best pair in cluster i\n",
    "    \n",
    "    if E_selection == True: # select one pair from each cluster\n",
    "        for i in range(len(ticker_count_reduced)):\n",
    "            cluster = clustered_series[clustered_series == i]\n",
    "            keys = cluster.keys()\n",
    "            result = Cointegration(cluster, significance, start_day, end_day)\n",
    "            if len(result[0]) > 0:\n",
    "                if np.min(result[0]) < significance:\n",
    "                    index = np.where(result[0] == np.min(result[0]))[0][0]\n",
    "                    Opt_pairs.append([result[1][index][0], result[1][index][1]])\n",
    "    else:\n",
    "        p_value_contval = []\n",
    "        pairs_contval = []\n",
    "        for i in range(len(ticker_count_reduced)):\n",
    "            cluster = clustered_series[clustered_series == i]\n",
    "            keys = cluster.keys()\n",
    "            result = Cointegration(cluster, significance, start_day, end_day)\n",
    "            if len(result[0]) > 0:\n",
    "                p_value_contval += result[0]\n",
    "                pairs_contval += result[1]\n",
    "                \n",
    "        Opt_pair_index = heapq.nsmallest(30,range(len(p_value_contval)), key=p_value_contval.__getitem__)\n",
    "        Opt_pairs = operator.itemgetter(*Opt_pair_index)(pairs_contval)\n",
    "    return Opt_pairs"
   ]
  },
  {
   "cell_type": "code",
   "execution_count": 31,
   "metadata": {
    "id": "saALgrMSZzBD"
   },
   "outputs": [],
   "source": [
    "# Pairs with lowest p-value among all the clusters\n",
    "significance = 0.05\n",
    "start_day = StartDate\n",
    "end_day = EndDate\n",
    "E_selection = False\n",
    "\n",
    "Opt_pairs = PairSelection(clustered_series, significance, start_day, end_day, E_selection)"
   ]
  },
  {
   "cell_type": "code",
   "execution_count": 32,
   "metadata": {
    "colab": {
     "base_uri": "https://localhost:8080/"
    },
    "id": "WEb6-OdzZ61H",
    "outputId": "9974aef0-6974-4ea0-984e-d3e05f1137e5",
    "scrolled": true
   },
   "outputs": [
    {
     "name": "stdout",
     "output_type": "stream",
     "text": [
      "Number of clusters:  2\n",
      "Number of cointegrated pairs:  10\n",
      "Pairs with lowest p-value among all the clusters:\n"
     ]
    },
    {
     "data": {
      "text/plain": [
       "(['ES', 'CMS'],\n",
       " ['XEL', 'ES'],\n",
       " ['ES', 'WEC'],\n",
       " ['DTE', 'CMS'],\n",
       " ['ED', 'PNW'],\n",
       " ['PEG', 'DTE'],\n",
       " ['CMS', 'EVRG'],\n",
       " ['DTE', 'EVRG'],\n",
       " ['XEL', 'DTE'],\n",
       " ['AEP', 'EVRG'])"
      ]
     },
     "execution_count": 32,
     "metadata": {},
     "output_type": "execute_result"
    }
   ],
   "source": [
    "print(\"Number of clusters: \",len(ticker_count_reduced))\n",
    "print(\"Number of cointegrated pairs: \",len(Opt_pairs))\n",
    "print(\"Pairs with lowest p-value among all the clusters:\")\n",
    "Opt_pairs\n"
   ]
  },
  {
   "cell_type": "code",
   "execution_count": 33,
   "metadata": {
    "colab": {
     "base_uri": "https://localhost:8080/"
    },
    "id": "C7KBjku3Z9l7",
    "outputId": "529b359c-601d-4b7c-afba-fcbb3dc4de80"
   },
   "outputs": [
    {
     "name": "stdout",
     "output_type": "stream",
     "text": [
      "10\n",
      "[('ES', 'CMS'), ('XEL', 'ES'), ('ES', 'WEC'), ('DTE', 'CMS'), ('ED', 'PNW'), ('PEG', 'DTE'), ('CMS', 'EVRG'), ('DTE', 'EVRG'), ('XEL', 'DTE'), ('AEP', 'EVRG')]\n"
     ]
    }
   ],
   "source": [
    "df = pd.DataFrame.from_dict(Opt_pairs)\n",
    "tickers_pairs = [*df.iloc[:,0].unique()]+[*df.iloc[:,1].unique()]\n",
    "print(len(Opt_pairs))\n",
    "lst = []\n",
    "for i in Opt_pairs:\n",
    "    lst.append(tuple(i))\n",
    "print(lst)"
   ]
  },
  {
   "cell_type": "code",
   "execution_count": 34,
   "metadata": {
    "colab": {
     "base_uri": "https://localhost:8080/"
    },
    "id": "27m2qsu6Z_6B",
    "outputId": "9e88b132-f307-4048-d9ed-cbf5252e8811"
   },
   "outputs": [
    {
     "data": {
      "text/plain": [
       "\"RUSSELL = ' '.join(list(set(([*df.iloc[:,0].unique()]+[*df.iloc[:,1].unique()]))))\\n\\nsectorNames = ['RUSSELL']\\n \\nsectors =[RUSSELL]\\nsector = sectors\\nsectorTickers_m = { s[0]: s[1] for s in zip(sectorNames, sectors)}\\n\\nprint(sectorTickers_m)\""
      ]
     },
     "execution_count": 34,
     "metadata": {},
     "output_type": "execute_result"
    }
   ],
   "source": [
    "'''RUSSELL = ' '.join(list(set(([*df.iloc[:,0].unique()]+[*df.iloc[:,1].unique()]))))\n",
    "\n",
    "sectorNames = ['RUSSELL']\n",
    " \n",
    "sectors =[RUSSELL]\n",
    "sector = sectors\n",
    "sectorTickers_m = { s[0]: s[1] for s in zip(sectorNames, sectors)}\n",
    "\n",
    "print(sectorTickers_m)'''"
   ]
  },
  {
   "cell_type": "code",
   "execution_count": 35,
   "metadata": {},
   "outputs": [
    {
     "name": "stdout",
     "output_type": "stream",
     "text": [
      "{'RUSSELL': 'MSFT AAPL GOOG AMZN TSLA FB NVDA JPM V JNJ UNH WMT HD BAC MA PG ADBE NFLX CRM DIS PFE XOM NKE ORCL TMO LLY PYPL KO ACN CSCO AVGO COST ABT PEP CVX DHR VZ MRK ABBV INTC WFC MCD UPS QCOM MS AMD T TXN INTU BX WMS NEE LOW MDT UNP SCHW HON TMUS BLK PM AXP AMAT NOW C GS RTX BMY SBUX BA TGT ISRG EL CVS AMT CHTR AMGN GE SNOW CAT TEAM DE PLD SPGI IBM ANTM MMM SQ ZTS BKNG SYK ADI ADP COP MRNA LMT GM USB LRCX MDLZ UBER SHW MU PNC ALXN GILD DASH MMC TFC CB TJX MO CME CSX CCI F DUK HCA ICE ZM ITW WDAY EW ADSK CI MCO FIS BDX EQIX APD ETN WM REGN KKR ECL FDX NSC COF FISV AON NET CL SO CRWD DXCM KLAC FCX D MRVL DDOG BSX ILMN LULU EMR NXPI PSA HUM NOC PGR U GD FTNT JCI EOG ATVI TWLO ALGN SPG MET MSCI SPOT IDXX EXC XLNX SNPS VMW DG CMG DOCU ROP MAR CVNA KDP PANW APH CDNS INFO BK IQV QTS TROW VEEV MNST A CARR ZS AIG SCCO TTD VRTX NEM EBAY MCHP APTV SLB TT PLTR KHC CTAS KMB PAYX PXD DOW DLR CNC ORLY SIVB LHX CTSH PH RSG WBA DELL MSI STZ PRU TWTR MTCH AEP O EA ODFL ROST KMI MPC OKTA ANET HLT BAX HUBS BIIB AZO FRC SYY SRE IFF ROK TRV PPG GIS GPN EPAM AFL MDB SBAC WELL RMD ROKU CPRT ADM YUM HPQ HSY OTIS STT TDG MTD CBRE DHI DFS VRSK NDAQ WMB FAST AMP ETSY KEYS AJG MCK BILL ANSS EFX XEL ENPH PSX CMI AVB BF.B BF.A GLW BBY APO RKT ALL LEN SGEN CSGP AME EQR DKNG ALB NUE SWK LYB ZBRA KR PEG ARE VLO PCAR IBKR WST AWK LVS BLL FITB VFC PINS OXY TSN PAYC DVN WLTW LUV LH KSU GNRC ES OKE FTV WEC URI WY ZBH GRMN SYF IT ED SWKS SPLK EXPE DAL W VMC EXR LNG SIRI VRSN MLM ASAN ABC NTRS BXS CDW MPWR RNG HES RPRX DLTR BKR ON GWW LYV TSCO ARES CCL HZNP DOV PLUG HIG EIX PCG INVH KMX TER IR MAA HRL XYL HBAN YUMC AVTR PKI STE VIAC POOL RF FOXA FOX CZR ESS TYL BIO KEY SUI TW CERN DRE CHD CTLT MKC TDOC WAT VTR TRMB AEE PODD EXPD DTE TTWO TRU K ULTA RCL UPST PPL CG FE MGM DT CFG HAL JBHT TDY COO BR RJF MTB AMC ALNY ETR CLX BCEI ENTG NTAP SSNC FANG TECH CINF BPFH FLT AGR DRI CRL GPC DISH HPE SBNY UI IP AMCR J HEI CE WDC DPZ AVY HOLX TXG PFG BXP DGX NVR MOH PEAK BRO WAB AKAM BPYU VICI CDAY LYFT BEN BURL IEX ROL QRVO MKL ALLY CMS UDR CLR NUAN FDS VTRS LKQ TXT CPT ESTC CNP PWR PPD MASI AES ABMD QS ATH MAS ZG Z ACGL ACI UAL BSY COUP TFX EXAS WSM ELAN EMN NDSN ELS CAG GME CAR AAP BMRN TREX PTON VER NLOK CLVT EVRG MKTX PCTY CGNX OMC LUMN WHR FNF KIM CAH UHAL INCY L WPC FBHS BEPC WRB MTN IPG PTC RGEN OPEN MOS NWSA NWS EQH CCK CBOE FND FFIV CF LNT SJM IRM HWM MORN AVLR RH HAS DOCN FMC GLOB BG WLK GGG AMH JLL LNC LPLA AAL LDOS STLD WRK AOS BLDR RHI PHM MRO NVAX PKG SC REG HST MPW TPR CPB CERC ZEN PNR CSL BRKR ATO NLY QGEN TRGP DAR WAL CHRW CNA IAC RPM RUN ALLE BKI IVZ BAH MHK XRAY NVCR WTRG SNA LAMR AFG GDDY FSLR EWBC DECK WSO FIVE LII JKHY CMA DKS BWA GLPI WIX HUBB LSCC XEC UWMC CTXS MCFE CLF SITE CUBE AXON MANH SCI HSIC LEA FIVN CABO TTC NTRA WYNN CONE UAA UA RE SNX LSI DVA APA CROX ERIE DBX XLRN JEF GH UHS REXR RS CLDR GWRE MIDD JNPR TAP OLN NWL FICO ZION HRC ACM PFPT TPL AGL KNX AZPN PEN FRT SYNH PENN SMG SYNA NI NTLA CACC SEE LAD TTEK AA PEGA MRVI ARMK DOX ST AGCO G Y OC GL CPRI CNXC CIEN NCLH VST M VRT JBL UGI OVV GPS STNE PLTK STOR H FHN OSH BERY MKSI RL SMAR CNST XPO UTHR AIZ DLB SAIA IPGP SEIC PLAN ITT GNTX BLD COTY CHDN PAG NRG CSOD DNB VNO ARW CTVA WSC TNDM ATR CHPT TSP KSS TPX YETI JAZZ CBSH PVH OGN BRKS BJ LECO THC ZNGA CFR AIRC AIV AN AGNC DXC MSTR NBIX BFAM FAF KRC LW MP EGP CHH SLAB OLED JHG LFUS NNN EQT COLD HLI CFX NYT PSTG SF WK PLNT BHVN MEDP MAT OSK NEWR ORI WH ATUS PBCT BC FR OMCL TOL FFIN AYI CHE FOXF DCI ARWR CREE PNFP HII SWAV INSP RGA AXTA USFD NLSN MARA HTA NTNX PII RPD STWD BL AMG ADT WOOF WWD PNW GMED DSSI ACC SKX VOYA CASY SRPT CHK SPT CWEN BOKF MRTX HUN COR WU STAG BRX SNV IAA RNR PFGC AMBA VAC TNET X PB MTZ OMF BBIO PPC VICR RCM RGLD WCC BYD NVST GTLS ALK EME EVR SGMS COLM IIVI OGE NXST OHI CVAC WTS LSTR POST DDS BPOP WEX APPS BPMC NCNO IIPR DD EXPI ROLL EXP CHNG VRNS LITE GT ASGN INGR CACI GBCI SHC AZEK EXPO ASH PRI APPN ESI DEI EHC VVV COHR GPK TXRH THO INOV KBR BEAM CR FSR ALGM POWI EEFT REYN NVT CERT IGT ALTR CELH DNLI RVLV CADE HBI HGV AMEH SON UPWK OZK AR PACB BE QDEL MSA HELE RRC SRC AMED FSLY LEG CUZ LPX HAYW HOG NATI SAM SHLS MDU VLY FIZZ TENB NOVT SWCH TKR SSB ACHC RRR HRI KOD CERE SMTC PRGO NYCB NCR CLH IART APG TWST EXEL SRCL TRNO FL AMKR VNT PACW FOUR NFE NKLA HQY SI HFC MAN TFSL SAIL IRDM SPWR DV FLO NSA SLM PGNY NFG RARE'}\n"
     ]
    }
   ],
   "source": [
    "RUSSELL = ' '.join(tic)\n",
    "#print(df_ret.columns)\n",
    "sectorNames = ['RUSSELL']\n",
    " \n",
    "sectors =[RUSSELL]\n",
    "sector = sectors\n",
    "sectorTickers = { s[0]: s[1] for s in zip(sectorNames, sectors)}\n",
    "\n",
    "print(sectorTickers)"
   ]
  },
  {
   "cell_type": "code",
   "execution_count": null,
   "metadata": {},
   "outputs": [],
   "source": []
  },
  {
   "cell_type": "markdown",
   "metadata": {
    "id": "81Si0Vm5aREU"
   },
   "source": [
    "# Brazil Notebook"
   ]
  },
  {
   "cell_type": "code",
   "execution_count": 36,
   "metadata": {
    "id": "a0gkApxc56kD"
   },
   "outputs": [],
   "source": [
    "startDate = datetime.datetime.strptime(StartDate, '%Y-%m-%d')    \n",
    "start1 = startDate - pd.Timedelta(days=365)\n",
    "end1 = datetime.datetime.strptime(EndDate, '%Y-%m-%d')  + pd.Timedelta(days=1)\n",
    "endDate = end1 - pd.Timedelta(days=365) "
   ]
  },
  {
   "cell_type": "code",
   "execution_count": 37,
   "metadata": {
    "id": "gDC_zn-n56wA"
   },
   "outputs": [],
   "source": [
    "what = 'Adj Close'\n",
    "what = 'Close'\n",
    "market_index = ['IWV']"
   ]
  },
  {
   "cell_type": "code",
   "execution_count": 38,
   "metadata": {
    "id": "tY6kjZns57AM"
   },
   "outputs": [],
   "source": [
    "\n",
    "#### To cointegration\n",
    "sigPos = { 90: 0, 95: 1, 99: 2 } \n",
    "\n",
    "significance=90\n",
    "\n",
    "\n",
    "### to adf\n",
    "adfSignificance = 90\n",
    "\n",
    "sigAdfPos = { 90: '10%', 95: '5%', 99: '1%' } "
   ]
  },
  {
   "cell_type": "code",
   "execution_count": null,
   "metadata": {},
   "outputs": [],
   "source": []
  },
  {
   "cell_type": "code",
   "execution_count": 39,
   "metadata": {
    "colab": {
     "base_uri": "https://localhost:8080/"
    },
    "id": "Ml1rZ0IOaZ37",
    "outputId": "82241664-620c-4b29-8fda-91fc7f2f4134",
    "scrolled": true
   },
   "outputs": [],
   "source": [
    "def load_data(sectorTickers):\n",
    "\n",
    "    \n",
    "    debug = False\n",
    "    pairList = []\n",
    "\n",
    "    dataFolder = 'sector_data4/'\n",
    "    if not os.path.exists(dataFolder):\n",
    "        os.makedirs(dataFolder)\n",
    "\n",
    "    #print('Loading Sectors data:')    \n",
    "    #print()\n",
    "\n",
    "    dfIndex = None\n",
    "    allSectors = dict(sectorTickers, **{ 'index' : market_index })\n",
    "    sectorsDataDic = {}\n",
    "    for sector in allSectors:    \n",
    "        tickers = allSectors[sector]\n",
    "\n",
    "        #print(f'Loading {sector} sector data...')    \n",
    "\n",
    "        dataName = dataFolder+'{} data {} {}.csv'.format(sector, start1.strftime('%Y-%m-%d'), end1.strftime('%Y-%m-%d'))\n",
    "        if not os.path.exists(dataName):\n",
    "\n",
    "            dfa = yf.download(tickers, start=start1, end=end1, interval='1d') #, group_by=\"ticker\" )\n",
    "\n",
    "            df = dfa[what].copy()# Price.loc[StartDate:EndDate, tickers_pairs] #\n",
    "            df.to_csv(dataName, index=True, header=True)\n",
    "\n",
    "        df = pd.read_csv(dataName, header=0,\n",
    "                              index_col=0,\n",
    "                              parse_dates=True)     \n",
    "\n",
    "        if sector in sectorTickers:\n",
    "            sectorsDataDic[sector] = df\n",
    "        else:\n",
    "            dfIndex = df\n",
    "    return sectorsDataDic, dfIndex"
   ]
  },
  {
   "cell_type": "code",
   "execution_count": null,
   "metadata": {
    "scrolled": true
   },
   "outputs": [],
   "source": []
  },
  {
   "cell_type": "code",
   "execution_count": 40,
   "metadata": {
    "colab": {
     "base_uri": "https://localhost:8080/"
    },
    "id": "LiZXPCMKaZ2I",
    "outputId": "f38f6056-0909-4f82-c38b-fc10f3ba267a"
   },
   "outputs": [],
   "source": [
    "def clean_data(sectorsDataDic, sectorTickers):\n",
    "    sectorsDataOk = {}\n",
    "    sectorsTickersOk = {}    \n",
    "\n",
    "    top100Ticker3Yrs = RUSSELL\n",
    "\n",
    "    topTickers = top100Ticker3Yrs.split(' ') if now and filterTopStocks else None\n",
    "    #print(topTickers)\n",
    "    for sector in sectorTickers:    \n",
    "\n",
    "        df = sectorsDataDic[sector]\n",
    "        #print(df.head())\n",
    "\n",
    "        df = df.fillna(method='ffill')\n",
    "        df = df.iloc[1:, :]\n",
    "        \n",
    "        df = df.dropna(axis=1)\n",
    "        #print(df.head())\n",
    "        #print(df)\n",
    "        if topTickers is not None:\n",
    "            sTickers = list(df.columns)\n",
    "            \n",
    "\n",
    "        for ticker in sTickers:\n",
    "            if ticker not in topTickers:\n",
    "                df.drop(ticker, axis=1, inplace=True)\n",
    "        \n",
    "        sTickers = list(df.columns)\n",
    "\n",
    "        if len(sTickers) >= minSectorLen:\n",
    "\n",
    "            sectorsDataOk[sector] = df       \n",
    "            sectorsTickersOk[sector] = sTickers\n",
    "\n",
    "            #print(f\"{sector} = \", \"'{}'\".format(' '.join(sTickers)))\n",
    "    return sectorsDataOk, sectorsTickersOk"
   ]
  },
  {
   "cell_type": "code",
   "execution_count": 41,
   "metadata": {
    "colab": {
     "base_uri": "https://localhost:8080/"
    },
    "id": "HuMG5bzA9BBP",
    "outputId": "c419726e-f878-45ad-95dc-ea585957d893"
   },
   "outputs": [
    {
     "data": {
      "text/plain": [
       "('ES', 'CMS')"
      ]
     },
     "execution_count": 41,
     "metadata": {},
     "output_type": "execute_result"
    }
   ],
   "source": [
    "lst[0]"
   ]
  },
  {
   "cell_type": "markdown",
   "metadata": {
    "id": "1xd6FWNZbrG9"
   },
   "source": [
    "# Calulate Pairs Correlation"
   ]
  },
  {
   "cell_type": "code",
   "execution_count": 42,
   "metadata": {
    "id": "aQIiGF1daZzv"
   },
   "outputs": [],
   "source": [
    "def calcSectorCorrelations(sector,sectorsDataOk, minPairCorrel =  0.5, mach =False):\n",
    "    \n",
    "    df = sectorsDataOk[sector].loc[startDate:endDate]\n",
    "    cols = list(df.columns)\n",
    "    n = len(cols)\n",
    "    \n",
    "    sectorCorr = {}\n",
    "    \n",
    "    #print(f'Calculating {sector} pairs correlations...')\n",
    "    if mach:\n",
    "        for i in range(len(lst)):\n",
    "            pair = lst[i]\n",
    "            corr = df[pair[0]].corr(df[pair[1]])\n",
    "            sectorCorr[pair] = corr\n",
    "    \n",
    "    else:\n",
    "        for i in range(n-1):\n",
    "            for j in range(i+1, n):\n",
    "\n",
    "                pair = (cols[i], cols[j])\n",
    "                #print(pair)\n",
    "                corr = df[cols[i]].corr(df[cols[j]])\n",
    "\n",
    "                if abs(corr) >= minPairCorrel:\n",
    "                    sectorCorr[pair] = corr\n",
    "\n",
    "            #print(pair, f'corr: {sectorCorr[pair]:.4f}')\n",
    "\n",
    "    return sectorCorr\n"
   ]
  },
  {
   "cell_type": "code",
   "execution_count": null,
   "metadata": {
    "id": "rjvUwiC09RXX"
   },
   "outputs": [],
   "source": []
  },
  {
   "cell_type": "code",
   "execution_count": 43,
   "metadata": {
    "id": "rBiBNkLp9PuF"
   },
   "outputs": [],
   "source": [
    "def corr_pairs(sectorsDataOk, mach = False):\n",
    "\n",
    "    if mach:\n",
    "        minPairCorrel = 0\n",
    "    else:\n",
    "        minPairCorrel = 0.95\n",
    "        \n",
    "    sectorsCorrDic = {}\n",
    "    sectorQty = 0\n",
    "    pairQty = 0\n",
    "    for sector in sectorsDataOk:    \n",
    "        sectorCorrDic = calcSectorCorrelations(sector,sectorsDataOk, minPairCorrel = minPairCorrel, mach=mach  )\n",
    "\n",
    "        #print(f\"{sector} correlations = \", sectorCorrDic)\n",
    "        #print(f\"{sector} correlations: \")\n",
    "\n",
    "        pairs = sectorCorrDic.keys()\n",
    "        corrs = sectorCorrDic.values()\n",
    "\n",
    "        corrSorted = sorted(zip(corrs,pairs), reverse=True)\n",
    "        sectorsCorrDic[sector] = corrSorted\n",
    "\n",
    "        sectorQty += 1\n",
    "        for corr in corrSorted:\n",
    "            #print( f'{corr[1]}: {corr[0]:.4f}')\n",
    "            pairQty += 1\n",
    "            \n",
    "    #print(sectorCorrDic)\n",
    "\n",
    "    if mach:\n",
    "        d = sectorsCorrDic\n",
    "        #included_keys = lst\n",
    "        #sectorsCorrDic = {k:v for k,v in d.items() if k in included_keys}\n",
    "        #print(sectorCorrDic)\n",
    "    else: pass\n",
    "            \n",
    "    #print('sectors:', sectorQty)\n",
    "    print('correlating pairs:', pairQty)\n",
    "    \n",
    "    \n",
    "    return sectorsCorrDic"
   ]
  },
  {
   "cell_type": "markdown",
   "metadata": {},
   "source": [
    "# Cointegratiion"
   ]
  },
  {
   "cell_type": "code",
   "execution_count": 44,
   "metadata": {
    "colab": {
     "base_uri": "https://localhost:8080/"
    },
    "id": "3G3aMav8aZsd",
    "outputId": "41ba04ff-7238-42a4-81af-c52804b84531"
   },
   "outputs": [],
   "source": [
    "def calcCointegration(df, pair, significance=95, mach = False ):\n",
    "    \n",
    "    # Combine the two time series into a matrix y2 for input into Johansen test\n",
    "    y2=pd.concat([df[pair[0]], df[pair[1]]], axis=1)\n",
    "    y2=y2.loc[y2.notnull().all(axis=1),]\n",
    "\n",
    "    if (y2.shape[0] > 240):\n",
    "        # Johansen test\n",
    "        result=vm.coint_johansen(y2.values, det_order=0, k_ar_diff=1)\n",
    "        if mach:\n",
    "            isCoint = True#(result.lr1[0] > result.cvt[0, sigPos[significance]])\n",
    "        else:\n",
    "            isCoint = (result.lr1[0] > result.cvt[0, sigPos[significance]])\n",
    "        if False: #isCoint: \n",
    "            print( pair )\n",
    "            print(result.lr1)\n",
    "            print(result.cvt)\n",
    "            print(result.evec)    \n",
    "            print()\n",
    "    else:\n",
    "        isCoint = False\n",
    "    return isCoint, result\n",
    "\n",
    "def cointRel(result, sigPos,mach=False, significance=99):\n",
    "    return result.lr1[0] / result.cvt[0, sigPos[significance]]\n",
    "\n",
    "def coint_pairs(sectorsDataOk, sectorsCorrDic,significance=95, mach= False):\n",
    "    sectorsCointPairs = {}\n",
    "    for sector in sectorsDataOk:    \n",
    "\n",
    "        #print(f'Calculating {sector} pairs cointegrations...')\n",
    "\n",
    "        df = sectorsDataOk[sector].loc[:endDate]\n",
    "\n",
    "        corrs = sectorsCorrDic[sector]\n",
    "\n",
    "        sectorCointPairs = []\n",
    "        for corrPair in corrs:\n",
    "            try:\n",
    "                isCoint, result = calcCointegration(df, corrPair[1], significance, mach=mach)\n",
    "            except:\n",
    "                isCoint = False\n",
    "            \n",
    "            if isCoint:\n",
    "                sectorCointPairs.append((corrPair[1], result))\n",
    "        \n",
    "\n",
    "        if len(sectorCointPairs) > 0:\n",
    "            sectorsCointPairs[sector] = sectorCointPairs\n",
    "\n",
    "    \n",
    "    sectorsCointPairsSorted = {}    \n",
    "    for sector in sectorsCointPairs:    \n",
    "\n",
    "        #print( f'Sorting sector {sector}...')    \n",
    "\n",
    "        sectorsCointPairsSorted[sector] = sorted(sectorsCointPairs[sector], key=lambda x: cointRel(x[1],sigPos,mach, significance), reverse=True)\n",
    "\n",
    "    #print(sectorsCointPairsSorted)\n",
    "    \n",
    "    sectorQty = 0\n",
    "    pairQty = 0\n",
    "    lastPairQty = 0\n",
    "    for sector in sectorsCointPairs:    \n",
    "        #print( f'{sector}:')        \n",
    "        for pair, result in sectorsCointPairsSorted[sector]:\n",
    "            #print( f'{pair}\\n{result.evec}')\n",
    "            #print( f'{pair}\\n{result.evec[:,0]}')\n",
    "            #print( f'{pair} [{result.evec[0][0]:.4f}, {result.evec[1][0]:.4f}]')\n",
    "            rel = result.evec[0][0]/result.evec[1][0]\n",
    "            #if rel >= 0:\n",
    "                #print( f'{pair[0]} + {rel:.4f} * {pair[1]}')\n",
    "            #else:\n",
    "                #print( f'{pair[0]} - {-rel:.4f} * {pair[1]}')            \n",
    "            pairQty += 1\n",
    "\n",
    "        if lastPairQty != pairQty:\n",
    "            lastPairQty = pairQty\n",
    "            sectorQty += 1\n",
    "    \n",
    "    print()        \n",
    "    #print('sectors:', sectorQty)\n",
    "    print('cointegrated pairs:', pairQty)    \n",
    "    return sectorsCointPairs, sectorsCointPairsSorted "
   ]
  },
  {
   "cell_type": "markdown",
   "metadata": {
    "id": "485VHhRnb4ED"
   },
   "source": [
    "# Calculate Pairs Spread and Beta"
   ]
  },
  {
   "cell_type": "code",
   "execution_count": 45,
   "metadata": {
    "id": "0IvMfaxHaZp3"
   },
   "outputs": [],
   "source": [
    "def spread(dfIndex, sectorsCointPairs, sectorsDataOk, sectorsCointPairsSorted, norel=False):\n",
    "    \n",
    "    \n",
    "    dfI = dfIndex['Close'].loc[startDate:endDate]\n",
    "    indexVariance = dfI.var()\n",
    "\n",
    "    sectorQty = 0\n",
    "    pairQty = 0\n",
    "    lastPairQty = 0\n",
    "\n",
    "    pairSpreadData = {}   \n",
    "    pairSpreadBeta = {}\n",
    "    for sector in sectorsCointPairs:    \n",
    "\n",
    "        df = sectorsDataOk[sector]\n",
    "\n",
    "        #print( f'Calculating spreads for sector {sector}...')        \n",
    "        for pair, result in sectorsCointPairsSorted[sector]:\n",
    "            if norel:\n",
    "                dfSpread = df[pair[0]] +  df[pair[1]]\n",
    "            else:\n",
    "                rel = result.evec[0][0]/result.evec[1][0]\n",
    "\n",
    "                dfSpread = np.log(df[pair[0]]) + rel * np.log(df[pair[1]])\n",
    "            \n",
    "            dfSpread = pd.DataFrame(dfSpread, columns=['spread'])\n",
    "            dfSpread['neg'] = dfSpread.apply(lambda y: 1 if y['spread'] < 0 else 0, axis=1 )\n",
    "            dfSpread['pos'] = dfSpread.apply(lambda y: 1 if y['spread'] > 0 else 0, axis=1 )\n",
    "\n",
    "            allPositive = dfSpread['neg'].sum() == 0\n",
    "            allNegative = dfSpread['pos'].sum() == 0\n",
    "            ### RETTER HER    \n",
    "            if ( allPositive or \n",
    "               ( allNegative and useNegativePairs)):\n",
    "\n",
    "                if allNegative and useNegativePairs:\n",
    "                    pairSpreadData[pair] = -dfSpread\n",
    "                else:\n",
    "                    pairSpreadData[pair] = dfSpread\n",
    "\n",
    "                pairSpreadData[pair][pair[0]] = df[pair[0]]\n",
    "                pairSpreadData[pair][pair[1]] = df[pair[1]]\n",
    "\n",
    "                beta = dfI.cov(dfSpread.loc[startDate:endDate, 'spread'])/indexVariance\n",
    "\n",
    "                pairSpreadBeta[pair] = beta\n",
    "\n",
    "                #print(pair, f'beta={beta:5.2f}')\n",
    "            \n",
    "                pairQty += 1\n",
    "\n",
    "\n",
    "        if lastPairQty != pairQty:\n",
    "            lastPairQty = pairQty\n",
    "            sectorQty += 1\n",
    "\n",
    "    print()        \n",
    "    print('sectors:', sectorQty)\n",
    "    print('pairs:', pairQty)    \n",
    "    return pairSpreadData, pairSpreadBeta\n"
   ]
  },
  {
   "cell_type": "code",
   "execution_count": 46,
   "metadata": {},
   "outputs": [],
   "source": [
    "def get_hurst_exponent(pairSpreadData, max_lag=60, nohurst = False):\n",
    "    \n",
    "    \"\"\"Returns the Hurst Exponent of the time series\"\"\"\n",
    "    \n",
    "    pairs = []\n",
    "    num = 0\n",
    "    for spr in pairSpreadData: \n",
    "\n",
    "        df = pairSpreadData[spr].values\n",
    "        lags = range(2, max_lag)\n",
    "\n",
    "        # variances of the lagged differences\n",
    "        tau = [np.std(np.subtract(df[lag:], df[:-lag])) for lag in lags]\n",
    "\n",
    "        # calculate the slope of the log plot -> the Hurst Exponent\n",
    "        reg = np.polyfit(np.log(lags), np.log(tau), 1)\n",
    "        if nohurst is True:\n",
    "            pairs.append(spr)\n",
    "        else:\n",
    "            if reg[0] < 0.5:\n",
    "                pairs.append(spr)\n",
    "                num += 1\n",
    "            else: pass\n",
    "        \n",
    "    print(f'mean reverting pairs: {num}')\n",
    "    passed = { key:value for key,value in pairSpreadData.items() if key in pairs}\n",
    "    return passed"
   ]
  },
  {
   "cell_type": "code",
   "execution_count": null,
   "metadata": {},
   "outputs": [],
   "source": []
  },
  {
   "cell_type": "markdown",
   "metadata": {
    "id": "kETAwXYyb9fJ"
   },
   "source": [
    "# Calculate Pairs Halflife"
   ]
  },
  {
   "cell_type": "code",
   "execution_count": 47,
   "metadata": {
    "id": "K5nlz1aXaZns"
   },
   "outputs": [],
   "source": [
    "def half_life(sectorsCointPairs, sectorsCointPairsSorted, pairSpreadData, NoHL=False):\n",
    "    if NoHL:\n",
    "        masxHalflife = 10000\n",
    "\n",
    "    else:\n",
    "        masxHalflife = 40\n",
    "\n",
    "    sectorQty = 0\n",
    "    pairQty = 0\n",
    "    lastPairQty = 0\n",
    "\n",
    "    pairSpreadHalflife = {}                        \n",
    "    for sector in sectorsCointPairs:    \n",
    "\n",
    "        #print( f'{sector}:')        \n",
    "        for pair, result in sectorsCointPairsSorted[sector]:\n",
    "\n",
    "            if pair in pairSpreadData:\n",
    "                dfa = pairSpreadData[pair]\n",
    "                df = pairSpreadData[pair].loc[startDate:endDate]\n",
    "\n",
    "                yport=df['spread']\n",
    "                ylag=yport.shift()\n",
    "                deltaY=yport-ylag\n",
    "                df2=pd.concat([ylag, deltaY], axis=1)\n",
    "                df2.columns=['ylag', 'deltaY']\n",
    "                regress_results=smf.ols(formula=\"deltaY ~ ylag\", data=df2).fit() # Note this can deal with NaN in top row\n",
    "                #print(regress_results.params)\n",
    "\n",
    "                halflife=-np.log(2)/regress_results.params['ylag']\n",
    "\n",
    "                #  Apply a simple linear mean reversion strategy to EWA-EWC-IGE\n",
    "                lookback=np.round(halflife).astype(int) #  setting lookback to the halflife found above\n",
    "                if NoHL:\n",
    "                    lookback = abs(lookback)\n",
    "                else: pass\n",
    "                if lookback < 0:\n",
    "                    #print(pair, 'halflife=%.2f days' % halflife)\n",
    "                    #print(pair, 'halflife < 0!!!!!!!!!!!!!!!!!!!!')\n",
    "                    lookback = -lookback\n",
    "                else:\n",
    "                    if lookback <= masxHalflife:\n",
    "                        #print(pair, 'halflife=%.2f days' % halflife)\n",
    "                        pairSpreadHalflife[pair] = lookback\n",
    "\n",
    "                        pairQty += 1\n",
    "\n",
    "        if lastPairQty != pairQty:\n",
    "            lastPairQty = pairQty\n",
    "            sectorQty += 1\n",
    "\n",
    "    print()        \n",
    "    print('sectors:', sectorQty)\n",
    "    print('pairs:', pairQty)    \n",
    "    return pairSpreadHalflife\n"
   ]
  },
  {
   "cell_type": "markdown",
   "metadata": {
    "id": "882kblQPcAni"
   },
   "source": []
  },
  {
   "cell_type": "code",
   "execution_count": 48,
   "metadata": {
    "id": "ujfxiyCRcAc0"
   },
   "outputs": [],
   "source": [
    "def adfValCond1(s, td, pd, adfDays):\n",
    "   \n",
    "    if pd > td:\n",
    "        pd = 0\n",
    "        \n",
    "    for ad in adfDays:\n",
    "        \n",
    "        if ad > pd and ad <= td:\n",
    "            #print( f's={s:.2f} ad={ad}, pd={pd}, td={td}')\n",
    "            return s \n",
    "\n",
    "    return 0.0\n",
    "\n",
    "def adfVal(w):\n",
    "    x = adfuller(w, maxlag = 1)\n",
    "\n",
    "    return x[0]-x[4][sigAdfPos[adfSignificance]]\n",
    "\n",
    "def adfValPos(w, l, df, adfLen):\n",
    "    \n",
    "    l = int(l)\n",
    "\n",
    "    if l >= adfLen-1:\n",
    "        x = adfuller(df.iloc[l-adfLen+1:l+1][w], maxlag = 1)\n",
    "\n",
    "        adf = x[0]-x[4][sigAdfPos[adfSignificance]]\n",
    "        #print('adf', adf)\n",
    "\n",
    "        return adf\n",
    "\n",
    "    return 0.0\n",
    "\n",
    "def adfValCond(w, l, df, adfDays, adfLen):\n",
    "    \n",
    "    l = int(l)\n",
    "\n",
    "    td = df.iloc[l]['day']\n",
    "    pd = df.iloc[l-1]['day'] if l > 0 else td\n",
    "    if pd > td:\n",
    "        pd = 0\n",
    "        \n",
    "    for ad in adfDays:\n",
    "        \n",
    "        if ad > pd and ad <= td:\n",
    "\n",
    "            #print( f'ad={ad}, pd={pd}, td={td}')\n",
    "\n",
    "            if l >= adfLen-1:\n",
    "                x = adfuller(df.iloc[l-adfLen+1:l+1][w], maxlag = 1)\n",
    "\n",
    "                adf = x[0]-x[4][sigAdfPos[adfSignificance]]\n",
    "                #print('adf', adf)\n",
    "                \n",
    "                return adf\n",
    "\n",
    "    return 0.0\n",
    "def calcQtyBalAmt(df, index, prev, price, position, spread, cost_type = None):\n",
    "       \n",
    "    qty = df.loc[prev]['trade_qty'] \n",
    "    balance = df.loc[prev]['balance']\n",
    "\n",
    "    if price > 0.0:\n",
    "        if position > 0:   \n",
    "            if qty == 0.0: # opening a long position - ok\n",
    "                qty = leverage * balance / price\n",
    "                df.loc[index, 'trade_qty'] = qty\n",
    "                balance -= qty * price\n",
    "                if cost_type == 'fixed': \n",
    "                    balance -= 5\n",
    "                elif cost_type == 'share':\n",
    "                    balance -= qty * price * 0.0008\n",
    "                else: pass\n",
    "            else: # closing a short position and opening a long position at once\n",
    "                qty = -qty\n",
    "                balance -= price * qty   \n",
    "                if cost_type == 'fixed':\n",
    "                    balance -= 5\n",
    "                elif cost_type == 'share':\n",
    "                    balance -= qty * price * 0.0008\n",
    "                else: pass\n",
    "                qty = leverage * balance / price                    \n",
    "                df.loc[index, 'trade_qty'] = qty\n",
    "                balance -= price * qty   \n",
    "                if cost_type == 'fixed':\n",
    "                    balance -= 5\n",
    "                elif cost_type == 'share':\n",
    "                    balance -= qty * price * 0.0008\n",
    "                else: pass\n",
    "        elif position == 0: # closing a short position - ok\n",
    "            balance -= -price * qty\n",
    "            if cost_type == 'fixed':\n",
    "                balance -= 5\n",
    "            elif cost_type == 'share':\n",
    "                balance -= qty * price * 0.0008\n",
    "            else: pass\n",
    "            qty = 0\n",
    "            df.loc[index, 'trade_qty'] = qty\n",
    "            \n",
    "        else: # error!!!\n",
    "            pass\n",
    "        \n",
    "    elif price == 0.0:\n",
    "        df.loc[index, 'trade_qty'] = qty # df.loc[prevIndex, 'trade_qty2']\n",
    "        \n",
    "    elif price < 0.0:\n",
    "        if position == 0: # closing a long position - ok\n",
    "            balance += -price * qty\n",
    "            if cost_type == 'fixed':\n",
    "                balance -= 5\n",
    "            elif cost_type == 'share':\n",
    "                balance -= qty * price * 0.0008\n",
    "            else: pass\n",
    "            \n",
    "            qty = 0\n",
    "            df.loc[index, 'trade_qty'] = qty\n",
    "        elif position < 0: # opening a short position - ok\n",
    "            if qty == 0.0:\n",
    "                qty = leverage * balance / price\n",
    "                df.loc[index, 'trade_qty'] = qty\n",
    "                balance += price * qty\n",
    "                if cost_type == 'fixed':\n",
    "                    balance -= 5\n",
    "                elif cost_type == 'share':\n",
    "                    balance -= qty * price * 0.0008\n",
    "                else: pass\n",
    "            else: # closing a long  position and opening a short position at once\n",
    "                qty = -qty\n",
    "                balance += 2 * price * qty\n",
    "                if cost_type == 'fixed':\n",
    "                    balance -= 2 * 5\n",
    "                elif cost_type == 'share':\n",
    "                    balance -= 2 * qty * price * 0.0008\n",
    "                else: pass\n",
    "                df.loc[index, 'trade_qty'] = qty\n",
    "                \n",
    "        else: # error!!!\n",
    "            pass\n",
    "\n",
    "\n",
    "\n",
    "    df.loc[index, 'balance'] = balance\n",
    "    df.loc[index, 'position_amt'] = price * qty / leverage if position > 0 else balance if position == 0 else balance/(1+leverage)\n",
    "    df.loc[index, 'mtm_amt'] = spread * qty / leverage if position > 0 else balance if position == 0 else price*qty-(leverage*qty*(spread+price))"
   ]
  },
  {
   "cell_type": "code",
   "execution_count": 49,
   "metadata": {
    "id": "JaASq-NGaZk9"
   },
   "outputs": [],
   "source": [
    "\n",
    "\n",
    "\n",
    "\n",
    "def stat_arb(df, what, lookback, std_dev,checkADF =True, start=None, end=None, adfDays=[], adfLen=252, cost_type= None):\n",
    "    \n",
    "    startIsNone = start is None    \n",
    "    if start is None:\n",
    "        start = df.index[0]\n",
    "    else:\n",
    "        start = df.loc[start:].index[0]\n",
    "\n",
    "    if end is None: \n",
    "        end = df.index[-1]\n",
    "    else:\n",
    "        end = df.loc[:end].index[-1]\n",
    "        \n",
    "        \n",
    "    df['moving_average'] = df[what].rolling(lookback).mean()\n",
    "    df['moving_std_dev'] = df[what].rolling(lookback).std()\n",
    "\n",
    "    df['upper_band'] = df.moving_average + std_dev*df.moving_std_dev\n",
    "    df['lower_band'] = df.moving_average - std_dev*df.moving_std_dev\n",
    "    \n",
    "    df['moving_avg_prev'] = df['moving_average'].shift(1)\n",
    "    df['upper_band_prev'] = df['upper_band'].shift(1)\n",
    "    df['lower_band_prev'] = df['lower_band'].shift(1)\n",
    "    \n",
    "    df['date']=[ d for d in list(df.index) ]\n",
    "    prev_date = [df.index[0]] + [ d for d in list(df.index[:-1]) ]\n",
    "    df['prev_date']=prev_date               \n",
    "\n",
    "    if checkADF:\n",
    "\n",
    "        df['day']=[ d.day for d in list(df.index) ]\n",
    "        \n",
    "        if False:\n",
    "            prev_day = [0] + [ d.day for d in list(df.index[:-1]) ]\n",
    "            df['prev_day']=prev_day               \n",
    "            df['adf_score'] = df[what].rolling(window=adfTestWindowLen).apply(lambda x: adfVal(x))\n",
    "            df['adf_score_cond'] = df[['adf_score', 'day', 'prev_day']].apply(lambda x: adfValCond1(x['adf_score'], x['day'], x['prev_day'], adfDays), axis=1)\n",
    "        else:\n",
    "            df['pos']=[ d for d in list(df.reset_index().index) ]\n",
    "            df['adf_score_cond'] = df[[what, 'pos']].apply(lambda x: adfValCond(what, x['pos'], df, adfDays, adfLen), axis=1)                    \n",
    "    else: \n",
    "        df['adf_score'] = 0.0\n",
    "        df['adf_score_cond'] = 0.0\n",
    "    \n",
    "    df['prev'] = df[what].shift(1)\n",
    "    \n",
    "    df['long_entry'] = df.apply(lambda y: y[what] < y['lower_band'] and y['prev'] >= y['lower_band_prev'] , axis=1 )\n",
    "    df['long_exit'] = df.apply(lambda y: y[what] >= y['moving_average'] and y['prev'] < y['moving_avg_prev'] , axis=1 )\n",
    "    df['long_adf_exit'] = df.adf_score_cond > 0\n",
    "    \n",
    "    df['positions_long'] = np.nan\n",
    "    df.loc[df.long_entry, 'positions_long'] = 1\n",
    "    df.loc[df.long_exit, 'positions_long'] = 0\n",
    "    df.loc[df.long_adf_exit, 'positions_long'] = 0\n",
    "    df.loc[:start,'positions_long'] = 0    \n",
    "    df.loc[end:,'positions_long'] = 0   \n",
    "    \n",
    "    df['poslong_prev'] = df['positions_long'].shift(1)\n",
    "    df.poslong_prev = df.poslong_prev.fillna(method='ffill') # to prevent successive long entry signals from changing long_price\n",
    "    \n",
    "    df['long_price'] = df.apply(lambda y: y[what] if y['positions_long'] == 1 and y['poslong_prev'] != 1 else \n",
    "                                         -y[what] if y['positions_long'] == 0 and y['poslong_prev'] != 0 else 0, axis=1 )\n",
    "    df['long_price'] = df['long_price'].replace(to_replace=0, method='ffill')\n",
    "\n",
    "    df['long_price_prev'] = df['long_price'].shift(1)\n",
    "    df['long_rets'] = df.apply(lambda y: -y['long_price']/y['long_price_prev'] if y['long_price'] < 0 and y['long_price_prev'] > 0 else 1, axis=1 )   \n",
    "    df['long_wins'] = df.apply(lambda y: 1 if y['long_rets'] > 1 else 0, axis=1 )   \n",
    "    df['long_loss'] = df.apply(lambda y: 1 if y['long_rets'] < 1 else 0, axis=1 )   \n",
    "               \n",
    "    df['short_entry'] = df.apply(lambda y: y[what] > y['upper_band'] and y['prev'] <= y['upper_band_prev'] , axis=1 )   \n",
    "    df['short_exit'] = df.apply(lambda y: y[what] <= y['moving_average'] and y['prev'] > y['moving_avg_prev'] , axis=1 )          \n",
    "    df['short_adf_exit'] = df.adf_score_cond > 0\n",
    "\n",
    "    df['positions_short'] = np.nan\n",
    "    df.loc[df.short_entry, 'positions_short'] = -1\n",
    "    df.loc[df.short_exit, 'positions_short'] = 0\n",
    "    df.loc[df.short_adf_exit, 'positions_short'] = 0\n",
    "    df.loc[:start,'positions_short'] = 0    \n",
    "    df.loc[end:,'positions_short'] = 0    \n",
    "    \n",
    "    df['posshort_prev'] = df['positions_short'].shift(1)\n",
    "    df.posshort_prev = df.posshort_prev.fillna(method='ffill') # to prevent successive short entry signals from changing short_price\n",
    "    \n",
    "    df['short_price'] = df.apply(lambda y: -y[what] if y['positions_short'] == -1 and y['posshort_prev'] != -1 else \n",
    "                                            y[what] if y['positions_short'] ==  0 and y['posshort_prev'] !=  0 else 0, axis=1 )\n",
    "    df['short_price'] = df['short_price'].replace(to_replace=0, method='ffill')\n",
    "        \n",
    "    df['short_price_prev'] = df['short_price'].shift(1)\n",
    "    df['short_rets'] = df.apply(lambda y: (2.0 + y['short_price']/y['short_price_prev']) if y['short_price'] > 0 and y['short_price_prev'] < 0 else 1, axis=1 )   \n",
    "    df['short_wins'] = df.apply(lambda y: 1 if y['short_rets'] > 1 else 0, axis=1 )   \n",
    "    df['short_loss'] = df.apply(lambda y: 1 if y['short_rets'] < 1 else 0, axis=1 )   \n",
    "  \n",
    "    df['trade_price'] = df.apply(lambda y: y['long_price']  if (y['long_price'] > 0 and y['long_price_prev'] <= 0 or\n",
    "                                                                y['long_price'] < 0 and y['long_price_prev'] >= 0) else \n",
    "                                           y['short_price'] if (y['short_price'] > 0 and y['short_price_prev'] <= 0 or\n",
    "                                                                y['short_price'] < 0 and y['short_price_prev'] >= 0) else 0, axis=1 )   \n",
    "\n",
    "    \n",
    "    df.positions_long = df.positions_long.fillna(method='ffill')\n",
    "    df.positions_short = df.positions_short.fillna(method='ffill')\n",
    "    df['positions'] = df.positions_long + df.positions_short\n",
    "    df['positions_prev'] = df.positions.shift(1)\n",
    "    \n",
    "    df['win_rets']  = df.apply(lambda y: y['short_rets'] if y['short_rets'] > 1 else y['long_rets'] if y['long_rets'] > 1 else 1.0, axis=1 )   \n",
    "    df['loss_rets'] = df.apply(lambda y: y['short_rets'] if y['short_rets'] < 1 else y['long_rets'] if y['long_rets'] < 1 else 1.0, axis=1 )   \n",
    "    \n",
    "    df['trade_qty'] = 0.0    \n",
    "    df['position_amt'] = 0.0\n",
    "    df['mtm_amt'] = 0.0\n",
    "    df['balance'] = 0.0\n",
    "    \n",
    "    if startIsNone:    \n",
    "        df.loc[start, 'balance'] = pairAmount\n",
    "    else:\n",
    "        prevStart = df.loc[start]['prev_date']\n",
    "        df.loc[prevStart, 'balance'] = pairAmount\n",
    "        \n",
    "    df.loc[start:end].apply(lambda x: calcQtyBalAmt(df, x['date'], x['prev_date'], x['trade_price'], x['positions'], x[what], cost_type=cost_type), axis=1)        \n",
    "        \n",
    "    df['balance'] = df['balance'].replace(to_replace=0, method='ffill')\n",
    "    df['position_amt'] = df['position_amt'].replace(to_replace=0, method='ffill')\n",
    "    df['position_gain'] = df['position_amt'].diff() \n",
    "            \n",
    "    df['ret_'+what] = (df['long_rets'] * df['short_rets']) - 1\n",
    "    df['cumret_'+what] = (1 + df['ret_'+what]).cumprod() - 1\n",
    "        \n",
    "    df['spread_difference'] = (df.spread - df.spread.shift(1))\n",
    "    df['pnl_'+what] = (df.positions_prev * df.spread_difference) / abs(df.loc[start].spread)\n",
    "    df['cumpnl_'+what] = df['pnl_'+what].cumsum()\n",
    "    \n",
    "    return df"
   ]
  },
  {
   "cell_type": "markdown",
   "metadata": {
    "id": "Dy9HZh4HcLUj"
   },
   "source": [
    "# Calculate Grid Search Pairs Returns"
   ]
  },
  {
   "cell_type": "code",
   "execution_count": 50,
   "metadata": {
    "id": "v3NnxRx5aZin"
   },
   "outputs": [],
   "source": [
    "\n",
    "def grid_search_pairs_returns(pairSpreadHalflife,pairSpreadData,checkADF = True, cost_type=None):\n",
    "    \n",
    "    useCumRet = True\n",
    "    usePosAmt = True\n",
    "\n",
    "    std_dev=1\n",
    "\n",
    "    if checkADF:\n",
    "        adfTestWindowLen = [ 126, 252, 378, 504 ]\n",
    "        adfCheckDays = [ [1], [1, 16], [1, 11, 21] ]\n",
    "    else:\n",
    "        adfTestWindowLen = [ 252 ]\n",
    "        adfCheckDays = [ [1] ]\n",
    "\n",
    "    pairSpreadReturnSets = {}\n",
    "    \n",
    "    for adfLen in adfTestWindowLen:\n",
    "        for adfDays in adfCheckDays:\n",
    "            opt = (adfLen, '-'.join([str(a) for a in adfDays]))\n",
    "            #print()\n",
    "            #print(f'Checking ADF with length {adfLen//21} months every month on day{\"s\" if len(adfDays)>1 else \"\"} {adfDays} from {endDate} to {end1}')\n",
    "\n",
    "            pairSpreadReturns = {}\n",
    "            for pair in pairSpreadHalflife:\n",
    "\n",
    "                lookback = pairSpreadHalflife[pair]\n",
    "\n",
    "                dfa = pairSpreadData[pair]\n",
    "\n",
    "                dfa = stat_arb(dfa, 'spread', lookback=lookback, std_dev=std_dev,checkADF =checkADF, start=endDate, end=None, adfDays=adfDays, adfLen=adfLen, cost_type = cost_type)\n",
    "\n",
    "                df = dfa.loc[endDate:]\n",
    "               \n",
    "                \n",
    "                if np.std(df['pnl_spread'])*(252**0.5) == 0:\n",
    "                    s=0\n",
    "                else:\n",
    "                    s = (np.mean(df['pnl_spread'])-(riskFreeYearRet/252))/np.std(df['pnl_spread'])*(252**0.5)\n",
    "                #print(pair, 'Cumulative pnl %6.2f The Sharpe Ratio %5.2f' % (df['cumpnl_spread'].iloc[-1], s))\n",
    "                if np.std(df['ret_spread'])*(252**0.5) == 0:\n",
    "                    sr = 0\n",
    "                else :\n",
    "                    sr = (np.mean(df['ret_spread']))/np.std(df['ret_spread'])*(252**0.5)\n",
    "                #print(pair, 'Cumulative ret %6.2f The Sharpe Ratio %5.2f' % (df['cumret_spread'].iloc[-1], sr))\n",
    "                if np.std(df['position_gain'])*(252**0.5) == 0:\n",
    "                    sp = 0\n",
    "                else:\n",
    "                    sp = (np.mean(df['position_gain']))/np.std(df['position_gain'])*(252**0.5)\n",
    "                #print(pair, 'Final Position %6.2f The Sharpe Ratio %5.2f' % (df['position_amt'].iloc[-1], sp))\n",
    "                #print()\n",
    "\n",
    "\n",
    "                if usePosAmt:\n",
    "                    pairSpreadReturns[pair] = (df['position_amt'].iloc[-1]-pairAmount, sp)\n",
    "                elif useCumRet:\n",
    "                    pairSpreadReturns[pair] = (df['cumret_spread'].iloc[-1], sr)\n",
    "                else:\n",
    "                    pairSpreadReturns[pair] = (df['cumpnl_spread'].iloc[-1], s)\n",
    "\n",
    "            pairSpreadReturnSets[opt] = pairSpreadReturns\n",
    "            \n",
    "    return pairSpreadReturnSets"
   ]
  },
  {
   "cell_type": "markdown",
   "metadata": {
    "id": "pESYlHw9cOHX"
   },
   "source": [
    "# Find best returns combination"
   ]
  },
  {
   "cell_type": "code",
   "execution_count": 51,
   "metadata": {
    "id": "lPbF9NAkaZgB"
   },
   "outputs": [],
   "source": [
    "def find_best_returns_combination(pairSpreadReturnSets):\n",
    "    topLen = 10\n",
    "\n",
    "    sortFieldPos = { 'pnl': 0, 'sr': 1 }\n",
    "\n",
    "    sortField = 'sr'\n",
    "\n",
    "    pairSpreadReturnsSorted = {}\n",
    "\n",
    "    for opt in pairSpreadReturnSets:\n",
    "\n",
    "        pairSpreadReturns = pairSpreadReturnSets[opt]\n",
    "\n",
    "        pairs = list(pairSpreadReturns.keys())\n",
    "        rets = list(pairSpreadReturns.values())\n",
    "\n",
    "        pos = sortFieldPos[sortField]\n",
    "\n",
    "        pairSpreadReturnsSorted[opt] = sorted(zip(pairs, rets), key=lambda x: x[1][pos], reverse=True)[:topLen]\n",
    "\n",
    "\n",
    "    max_pnl = 0\n",
    "    max_sr = 0\n",
    "    for opt in pairSpreadReturnsSorted:\n",
    "\n",
    "        #print()\n",
    "        #print(f'Top {topLen} results from ADF length {opt[0]/21} months checking on day{\"s\" if len(opt[1])>1 else \"\"} {opt[1]} ')\n",
    "\n",
    "        pnls = []\n",
    "        srs = []\n",
    "        for pr in pairSpreadReturnsSorted[opt]:\n",
    "            pnl = pr[1][0]\n",
    "            sr = pr[1][1]\n",
    "            #print(pr[0], f'PnL={pnl:6.2f} Sharpe={sr:5.2f}')\n",
    "\n",
    "            pnls.append(pnl)\n",
    "            srs.append(sr)\n",
    "\n",
    "        pnl_std = np.std(pnls)\n",
    "        pnl_avg = np.mean(pnls)\n",
    "\n",
    "        if pnl_avg > max_pnl:\n",
    "            max_pnl = pnl_avg\n",
    "            max_pnl_opt = opt\n",
    "        else:\n",
    "            max_pnl = pnl_avg\n",
    "            max_pnl_opt = opt            \n",
    "\n",
    "        sr_std = np.std(srs)\n",
    "        sr_avg = np.mean(srs)\n",
    "\n",
    "        if sr_avg > max_sr:\n",
    "            max_sr = sr_avg\n",
    "            max_sr_opt = opt\n",
    "        else:\n",
    "            max_sr = sr_avg\n",
    "            max_sr_opt = opt\n",
    "            \n",
    "        #print(f'PnL avg={pnl_avg:6.2f} PnL stddev={pnl_std:6.2f}')\n",
    "        #print(f'ShR avg={sr_avg:6.2f} ShR stddev={sr_std:6.2f}')\n",
    "\n",
    "    return pairSpreadReturnsSorted, max_sr, max_pnl_opt\n"
   ]
  },
  {
   "cell_type": "markdown",
   "metadata": {
    "id": "Eck6ekSkcRFk"
   },
   "source": [
    "# Calculate Best PnL Option Statistics"
   ]
  },
  {
   "cell_type": "code",
   "execution_count": 52,
   "metadata": {
    "id": "02UWC66gaZdl"
   },
   "outputs": [],
   "source": [
    "def adfDays(max_pnl_opt):\n",
    "    opt = max_pnl_opt # if sortField == 'pnl' else max_sr_opt\n",
    "\n",
    "    (adfLen, adfDaysStr) = opt\n",
    "\n",
    "    adfDays = [int(d) for d in adfDaysStr.split('-')]\n",
    "    return adfDays\n",
    "def calc_drawdown(cum_rets):\n",
    "    cum_rets = cum_rets.apply(lambda x: 0 if abs(x) < 0.001 else x)\n",
    "    # Calculate the running maximum\n",
    "    running_max = cum_rets.cummax() # np.maximum.accumulate(cum_rets.dropna())\n",
    "    # Calculate the percentage drawdown\n",
    "    drawdown = (cum_rets)/running_max - 1 \n",
    "    \n",
    "    return drawdown.replace(to_replace=-np.inf, method='ffill')\n",
    "\n",
    "def calc_drawdown_df(cum_rets):\n",
    "    \n",
    "    cum_rets = cum_rets.apply(lambda x: 0 if abs(x) < 0.001 else x)\n",
    "    # Calculate the running maximum\n",
    "    running_max = cum_rets.cummax() # np.maximum.accumulate(cum_rets.dropna())\n",
    "    \n",
    "    dfd = pd.DataFrame( list(zip(cum_rets, running_max)), columns = ['rets', 'max'], index = cum_rets.index )\n",
    "\n",
    "    # Calculate the percentage drawdown  \n",
    "    drawdown = dfd.apply(lambda x: 0.0 if x['max'] == 0 else x['rets']/x['max'] - 1, axis=1 ).apply(lambda x: 0 if abs(x) < 0.001 else x)\n",
    "    \n",
    "    return drawdown.replace(to_replace=-np.inf, method='ffill')\n",
    "\n",
    "def plot_drawdown(drawdown, w=10, h=7):\n",
    "    fig = plt.figure(figsize=(w, h))\n",
    "    # Plot\n",
    "    drawdown.plot(color='r')\n",
    "    plt.ylabel('Returns')\n",
    "    plt.fill_between(drawdown.index, drawdown, color='red')\n",
    "    plt.grid(which=\"major\", color='k', linestyle='-.', linewidth=0.2)\n",
    "    plt.show()\n",
    "    \n",
    "#print()\n",
    "#print(f'Recalculating returns for ADF with length {adfLen//21} months every month on day{\"s\" if len(adfDays)>1 else \"\"} {adfDays} from {endDate} to {end1}')\n",
    "def Calculate_Best_PnL_Option_Statistics(pairSpreadReturnsSorted, max_sr, max_pnl_opt,pairSpreadHalflife,pairSpreadData,pairSpreadBeta, cost_type=None):\n",
    "    opt = max_pnl_opt # if sortField == 'pnl' else max_sr_opt\n",
    "    (adfLen, adfDaysStr) = opt\n",
    "    adfDays = [int(d) for d in adfDaysStr.split('-')]\n",
    "    useCumRet = True\n",
    "    usePosAmt = True\n",
    "\n",
    "    std_dev=1\n",
    "\n",
    "    pnls = []\n",
    "    srs = []\n",
    "    bestPairsData = {}\n",
    "    bestPairsDrawdown = {}\n",
    "\n",
    "    cagrs = []\n",
    "    hit_ratios = []\n",
    "    avgP2Ls = []\n",
    "    retStds = []\n",
    "    maxDDs = []\n",
    "\n",
    "    portfolioAmtDic = {}\n",
    "\n",
    "    for pr in pairSpreadReturnsSorted[opt]:    \n",
    "\n",
    "        pair = pr[0]\n",
    "\n",
    "        lookback = pairSpreadHalflife[pair]\n",
    "\n",
    "        dfa = pairSpreadData[pair]\n",
    "        dfa['dd'] = 0.0    \n",
    "\n",
    "        dfa = stat_arb(dfa, 'spread', lookback=lookback, std_dev=std_dev, start=endDate, end=None, adfDays=adfDays, adfLen=adfLen, cost_type=cost_type)\n",
    "\n",
    "        df = dfa.loc[endDate:]\n",
    "        #print(df.adf_score_cond.value_counts())\n",
    "\n",
    "        if usePosAmt:\n",
    "            pnl = (df['position_amt'].iloc[-1]-pairAmount)/pairAmount\n",
    "            ret = df['mtm_amt']         # df['position_amt']        \n",
    "            sr = (np.mean(df['position_gain']))/np.std(df['position_gain'])*(252**0.5)\n",
    "        elif useCumRet:\n",
    "            pnl = df['cumret_spread'].iloc[-1]\n",
    "            ret = df['cumret_spread']\n",
    "            sr = (np.mean(df['ret_spread']))/np.std(df['ret_spread'])*(252**0.5)\n",
    "        else:\n",
    "            pnl = df['cumpnl_spread'].iloc[-1]\n",
    "            ret = df['cumpnl_spread']\n",
    "            sr = (np.mean(df['pnl_spread'])-(riskFreeYearRet/252))/np.std(df['pnl_spread'])*(252**0.5)\n",
    "\n",
    "        #dd = calc_drawdown(ret)       \n",
    "        dd = calc_drawdown_df(ret)       \n",
    "\n",
    "        portfolioAmtDic[pair] = ret\n",
    "\n",
    "        bestPairsDrawdown[pair] = dd\n",
    "\n",
    "        dfa.loc[endDate:, 'dd'] = dd\n",
    "\n",
    "        bestPairsData[pair] = df\n",
    "\n",
    "        beta = pairSpreadBeta[pair]\n",
    "\n",
    "        cagr  = (pnl + 1)**(252/len(df))-1\n",
    "\n",
    "        num_wins = df['long_wins'].sum() + df['short_wins'].sum() \n",
    "        num_loss = df['long_loss'].sum() + df['short_loss'].sum() \n",
    "\n",
    "        hit_ratio = num_wins/num_loss if num_loss > 0 else np.inf\n",
    "\n",
    "        avg_win  =  (df['win_rets']-1).sum()/num_wins if num_wins > 0 else 0.0\n",
    "        avg_loss = -(df['loss_rets']-1).sum()/num_loss if num_loss > 0 else 0.0\n",
    "\n",
    "        avgProfitToAvgLoss = avg_win/avg_loss if avg_loss != 0 else np.inf\n",
    "\n",
    "        retStdDev = ret.std()\n",
    "\n",
    "        #print(pair, 'Cumulative pnl %7.2f%% The Sharpe Ratio %5.2f beta %5.2f max drawdown %5.2f%%' % (pnl*100, sr, beta, dd.min()*100))\n",
    "\n",
    "\n",
    "        pnls.append(pnl)\n",
    "        srs.append(sr)\n",
    "\n",
    "        cagrs.append(cagr)\n",
    "        hit_ratios.append(hit_ratio)\n",
    "        avgP2Ls.append(avgProfitToAvgLoss)\n",
    "        retStds.append(retStdDev)\n",
    "        maxDDs.append(dd.min())\n",
    "\n",
    "\n",
    "    pnl_std = np.std(pnls)\n",
    "    pnl_avg = np.mean(pnls)\n",
    "\n",
    "    sr_std = np.std(srs)\n",
    "    sr_avg = np.mean(srs)\n",
    "\n",
    "    \n",
    "    print(f'PnL avg={pnl_avg*100:6.2f}% PnL stddev={pnl_std*100:6.2f}%')\n",
    "    print(f'ShR avg={sr_avg:6.2f} ShR stddev={sr_std:6.2f}')    \n",
    "\n",
    "    return pnls, srs, bestPairsData, bestPairsDrawdown, cagrs, hit_ratios, avgP2Ls, retStds, maxDDs, portfolioAmtDic, sr_avg, sr_std"
   ]
  },
  {
   "cell_type": "code",
   "execution_count": 53,
   "metadata": {
    "id": "qftQlqsAaZbI"
   },
   "outputs": [
    {
     "data": {
      "text/plain": [
       "'\\nprint(f\"{\\'Pair\\':29}\", \\'\\t\\'.join([f\\'{c:9}\\' for c in cols]))    \\nfor index, row in dfs.reset_index().iterrows():\\n    print(str(row[0]), \\'\\t\\'.join([f\\'{i:9.2f}\\' for i in list(row[1:-1])]), f\\'\\t{list(row)[-1]*100:9.2f}%\\')\\n'"
      ]
     },
     "execution_count": 53,
     "metadata": {},
     "output_type": "execute_result"
    }
   ],
   "source": [
    "def make_dfs(cagrs, hit_ratios, avgP2Ls, retStds, maxDDs, pairSpreadReturnsSorted, max_pnl_opt):\n",
    "    cols = ['CAGR', 'Success Ratio of Trades', 'Average Profit to Average Loss', 'Standard Deviation of Returns', 'Maximum Draw-down']\n",
    "    cols = ['CAGR', 'Hit Ratio', 'Avg Profit/Loss', 'Rets StdDev', 'Max Draw-down']\n",
    "    opt = max_pnl_opt\n",
    "    dfs = pd.DataFrame(list(zip(cagrs, hit_ratios, avgP2Ls, retStds, maxDDs)), \n",
    "                       columns = cols,\n",
    "                       index = [ pr[0] for pr in pairSpreadReturnsSorted[opt]] ).sort_values('CAGR', ascending=False)\n",
    "    print(f' We have: {dfs.shape[0]} selected pairs')\n",
    "    return dfs\n",
    "'''\n",
    "print(f\"{'Pair':29}\", '\\t'.join([f'{c:9}' for c in cols]))    \n",
    "for index, row in dfs.reset_index().iterrows():\n",
    "    print(str(row[0]), '\\t'.join([f'{i:9.2f}' for i in list(row[1:-1])]), f'\\t{list(row)[-1]*100:9.2f}%')\n",
    "'''"
   ]
  },
  {
   "cell_type": "code",
   "execution_count": 54,
   "metadata": {
    "id": "OOgiDBMCaZYq"
   },
   "outputs": [],
   "source": [
    "def print_shit(portfolioAmtDic, show = None):\n",
    "    dfPort = pd.DataFrame(portfolioAmtDic)\n",
    "\n",
    "    numPairs = len(dfPort.columns)\n",
    "\n",
    "    initialAmount = pairAmount*numPairs\n",
    "\n",
    "    dfPort['portfolio'] = np.sum(dfPort, axis=1)\n",
    "    dfPort['portfolio_rets'] = dfPort['portfolio'].pct_change()\n",
    "\n",
    "    dd = calc_drawdown_df(dfPort['portfolio'])\n",
    "\n",
    "    pnl = (dfPort['portfolio'].iloc[-1]-initialAmount)/initialAmount\n",
    "\n",
    "    cagr  = (pnl + 1)**(252/len(dfPort))-1\n",
    "\n",
    "    stdDev = dfPort['portfolio_rets'].std()\n",
    "\n",
    "    maxDD = dd.min()\n",
    "\n",
    "    print()\n",
    "    print(f'Porfolio rets: {pnl:.4f} CAGR: {cagr:.4f} StdDev: {stdDev:.4f} Max DrawDown: {maxDD:.4f}')\n",
    "    print()\n",
    "    if show=='yes':\n",
    "        dfPort['portfolio'].plot(figsize=(10, 5))\n",
    "        plt.show()\n",
    "\n",
    "        plot_drawdown(dd)\n",
    "    else: pass\n",
    "    return dfPort, dd, pnl, cagr, stdDev, maxDD"
   ]
  },
  {
   "cell_type": "markdown",
   "metadata": {
    "id": "3ksuQ1B3cWvV"
   },
   "source": [
    "# Print Charts"
   ]
  },
  {
   "cell_type": "code",
   "execution_count": 55,
   "metadata": {
    "id": "4fiYWpb5aZWS"
   },
   "outputs": [],
   "source": [
    "def print_Charts(bestPairsData, bestPairsDrawdown):\n",
    "    w=10\n",
    "    h=5\n",
    "\n",
    "    for pair in bestPairsData:\n",
    "\n",
    "        df = bestPairsData[pair]\n",
    "        dd = bestPairsDrawdown[pair]\n",
    "\n",
    "        s = np.mean(df['pnl_spread'])/np.std(df['pnl_spread'])*(252**0.5)\n",
    "        print(pair, 'Cumulative pnl %7.2f The Sharpe Ratio %5.2f' % (df['cumpnl_spread'].iloc[-1], s))\n",
    "        sr = (np.mean(df['ret_spread']))/np.std(df['ret_spread'])*(252**0.5)\n",
    "        print(pair, 'Cumulative ret %7.2f The Sharpe Ratio %5.2f' % (df['cumret_spread'].iloc[-1], sr))\n",
    "\n",
    "\n",
    "        # Plot the spread\n",
    "        df[[pair[0], pair[1]]].plot(figsize=(w, h)) #, color=['lightskyblue', 'orange', 'green', 'red'])\n",
    "        plt.ylabel(\"Spread\")\n",
    "        plt.show()\n",
    "\n",
    "        print(pair, 'Cumulative pnl %7.2f The Sharpe Ratio %5.2f' % (df['cumpnl_spread'].iloc[-1], s))\n",
    "        df[['cumpnl_spread', 'spread', 'moving_average', 'upper_band', 'lower_band', 'positions_prev']].plot(figsize=(w, h), color=['fuchsia', 'lightskyblue', 'orange', 'green', 'red', 'gray'], secondary_y='cumpnl_spread')\n",
    "        plt.ylabel(\"cumpnl_spread\")\n",
    "        plt.show()\n",
    "\n",
    "        print(pair, 'Cumulative ret %7.2f The Sharpe Ratio %5.2f' % (df['cumret_spread'].iloc[-1], sr))\n",
    "        df[['cumret_spread', 'spread', 'moving_average', 'upper_band', 'lower_band', 'positions_prev']].plot(figsize=(w, h), color=['fuchsia', 'lightskyblue', 'orange', 'green', 'red', 'gray'], secondary_y='cumret_spread')\n",
    "        plt.ylabel(\"cumret_spread\")\n",
    "        plt.show()\n",
    "\n",
    "        print(pair, 'Cumulative ret %7.2f The Sharpe Ratio %5.2f' % (df['cumret_spread'].iloc[-1], sr))\n",
    "        df[['position_amt', 'spread', 'trade_price', 'positions']].plot(figsize=(w, h), color=['fuchsia', 'lightskyblue', 'darkseagreen', 'gray'], secondary_y='position_amt')\n",
    "        plt.show()\n",
    "\n",
    "        print(pair, 'Cumulative ret %7.2f The Sharpe Ratio %5.2f' % (df['cumret_spread'].iloc[-1], sr))\n",
    "        df[['mtm_amt', 'position_amt', 'spread', 'trade_price', 'positions']].plot(figsize=(w, h), color=['fuchsia', 'orange', 'lightskyblue', 'darkseagreen', 'gray'], secondary_y=['mtm_amt', 'position_amt'])\n",
    "        plt.show()\n",
    "\n",
    "        plot_drawdown(dd, w, h)\n"
   ]
  },
  {
   "cell_type": "markdown",
   "metadata": {
    "id": "218ZGcXvcatP"
   },
   "source": [
    "# Execute"
   ]
  },
  {
   "cell_type": "code",
   "execution_count": 56,
   "metadata": {
    "id": "2CxeRPRTaZT6"
   },
   "outputs": [],
   "source": [
    "def execute(sectorTickers,NoHL=False,checkADF=True,cost_type =None,norel =False, mach= False, nohurst= False):\n",
    "    try:\n",
    "        '''\n",
    "        Use cost type = fixed str type. if a fixed cost\n",
    "        Use cost_type = share if basic point commision\n",
    "        Use mach = true if macine leaned cointegration\n",
    "        Use sectorTickers = sectorTicker_m if mach is true'''\n",
    "        print('step 1/12')\n",
    "        print('load data')\n",
    "        sectorsDataDic, dfIndex = load_data(sectorTickers)\n",
    "        #print(sectorsDataDic)\n",
    "        print('step 2/12')\n",
    "        print('clean data')\n",
    "        sectorsDataOk, sectorsTickersOk = clean_data(sectorsDataDic, sectorTickers)\n",
    "        #print(sectorsDataOk)\n",
    "        print('step 3/12')\n",
    "        print('correlation')\n",
    "        sectorsCorrDic = corr_pairs(sectorsDataOk, mach = mach)\n",
    "        print('step 4/12')\n",
    "        print('cointegration')\n",
    "        sectorsCointPairs, sectorsCointPairsSorted = coint_pairs(sectorsDataOk, sectorsCorrDic,significance=99,mach = mach)\n",
    "        print('step 5/12')\n",
    "        print('spread and beta')\n",
    "        pairSpreadData, pairSpreadBeta = spread(dfIndex, sectorsCointPairs, sectorsDataOk, sectorsCointPairsSorted, norel)\n",
    "        print('step 6/12')\n",
    "        pairSpreadData_H = get_hurst_exponent(pairSpreadData, max_lag=60, nohurst=nohurst)\n",
    "        print('half life')\n",
    "        pairSpreadHalflife = half_life(sectorsCointPairs, sectorsCointPairsSorted, pairSpreadData_H, NoHL)    \n",
    "        print('step 7/12')\n",
    "        print('grid search')\n",
    "        pairSpreadReturnSets = grid_search_pairs_returns( pairSpreadHalflife,pairSpreadData_H,checkADF, cost_type)\n",
    "        print('step 8/12')\n",
    "        print('best pairs')\n",
    "        pairSpreadReturnsSorted, max_sr, max_pnl_opt = find_best_returns_combination(pairSpreadReturnSets)\n",
    "        print('step 9/12')\n",
    "        print('profit and loss')\n",
    "        pnls, srs, bestPairsData, bestPairsDrawdown, cagrs, hit_ratios, avgP2Ls, retStds, maxDDs, portfolioAmtDic, sr_avg, sr_std = Calculate_Best_PnL_Option_Statistics(pairSpreadReturnsSorted, max_sr, max_pnl_opt,pairSpreadHalflife,pairSpreadData,pairSpreadBeta, cost_type)\n",
    "        print('step 10/12')\n",
    "        print('make df')\n",
    "        dfs = make_dfs(cagrs, hit_ratios, avgP2Ls, retStds, maxDDs, pairSpreadReturnsSorted, max_pnl_opt)\n",
    "        print('step 11/12')\n",
    "        print('print cumulative return')\n",
    "        dfPort, dd, pnl, cagr, stdDev, maxDD = print_shit(portfolioAmtDic)\n",
    "        print('step 12/12')\n",
    "        print('print pairs stuff')\n",
    "        #print_Charts(bestPairsData, bestPairsDrawdown)\n",
    "\n",
    "        return  dd, pnl, cagr, stdDev, maxDD, dfs, sr_avg, sr_std, dfPort\n",
    "    except: \n",
    "        dd=0,\n",
    "        pnl= 0,\n",
    "        cagr=0,\n",
    "        stdDev=0,\n",
    "        maxDD=0, \n",
    "        dfs=0, \n",
    "        sr_avg=0, \n",
    "        sr_std=0, \n",
    "        dfPort = 0\n",
    "        return dd, pnl, cagr, stdDev, maxDD, dfs, sr_avg, sr_std, dfPort\n",
    "        \n",
    "    "
   ]
  },
  {
   "cell_type": "markdown",
   "metadata": {},
   "source": [
    "# Full Cointegraton selection"
   ]
  },
  {
   "cell_type": "code",
   "execution_count": 57,
   "metadata": {
    "id": "aH-Rr3ZmaZRj",
    "scrolled": true
   },
   "outputs": [
    {
     "name": "stdout",
     "output_type": "stream",
     "text": [
      "step 1/12\n",
      "load data\n",
      "step 2/12\n",
      "clean data\n",
      "step 3/12\n",
      "correlation\n",
      "correlating pairs: 6396\n",
      "step 4/12\n",
      "cointegration\n",
      "\n",
      "cointegrated pairs: 297\n",
      "step 5/12\n",
      "spread and beta\n",
      "\n",
      "sectors: 1\n",
      "pairs: 269\n",
      "step 6/12\n",
      "mean reverting pairs: 217\n",
      "half life\n",
      "\n",
      "sectors: 1\n",
      "pairs: 115\n",
      "step 7/12\n",
      "grid search\n",
      "step 8/12\n",
      "best pairs\n",
      "step 9/12\n",
      "profit and loss\n",
      "PnL avg= 43.86% PnL stddev= 29.30%\n",
      "ShR avg=  1.39 ShR stddev=  0.28\n",
      "step 10/12\n",
      "make df\n",
      " We have: 10 selected pairs\n",
      "step 11/12\n",
      "print cumulative return\n",
      "\n",
      "Porfolio rets: 0.4386 CAGR: 0.4366 StdDev: 0.0067 Max DrawDown: -0.0452\n",
      "\n",
      "step 12/12\n",
      "print pairs stuff\n"
     ]
    }
   ],
   "source": [
    "dd1, pnl1, cagr1, stdDev1, maxDD1, dfs1, sr_avg1, sr_std1, dfPort1= execute(sectorTickers,NoHL=False,checkADF=True,cost_type =None,norel =False, mach= False, nohurst= False)"
   ]
  },
  {
   "cell_type": "markdown",
   "metadata": {},
   "source": [
    "# With 5 doller commision"
   ]
  },
  {
   "cell_type": "code",
   "execution_count": 58,
   "metadata": {},
   "outputs": [],
   "source": [
    "\n",
    "#dd1f, pnl1f, cagr1f, stdDev1f, maxDD1f, dfs1f, sr_avg1f, sr_std1f, dfPort1f  = execute(sectorTickers,NoHL=False,checkADF=True,cost_type ='fixed',norel =False, mach= False, nohurst= False)"
   ]
  },
  {
   "cell_type": "markdown",
   "metadata": {},
   "source": [
    "# with 8 basic point commision"
   ]
  },
  {
   "cell_type": "code",
   "execution_count": 59,
   "metadata": {},
   "outputs": [],
   "source": [
    "#dd1s, pnl1s, cagr1s, stdDev1s, maxDD1s, dfs1s, sr_avg1s, sr_std1s, dfPort1s = execute(sectorTickers,NoHL=False,checkADF=True,cost_type ='share',norel =False, mach= False, nohurst= False)"
   ]
  },
  {
   "cell_type": "markdown",
   "metadata": {},
   "source": [
    "# Cointegration no ADF"
   ]
  },
  {
   "cell_type": "code",
   "execution_count": 60,
   "metadata": {},
   "outputs": [
    {
     "name": "stdout",
     "output_type": "stream",
     "text": [
      "step 1/12\n",
      "load data\n",
      "step 2/12\n",
      "clean data\n",
      "step 3/12\n",
      "correlation\n",
      "correlating pairs: 6396\n",
      "step 4/12\n",
      "cointegration\n",
      "\n",
      "cointegrated pairs: 297\n",
      "step 5/12\n",
      "spread and beta\n",
      "\n",
      "sectors: 1\n",
      "pairs: 269\n",
      "step 6/12\n",
      "mean reverting pairs: 217\n",
      "half life\n",
      "\n",
      "sectors: 1\n",
      "pairs: 115\n",
      "step 7/12\n",
      "grid search\n",
      "step 8/12\n",
      "best pairs\n",
      "step 9/12\n",
      "profit and loss\n",
      "PnL avg= 36.85% PnL stddev= 27.17%\n",
      "ShR avg=  1.33 ShR stddev=  0.25\n",
      "step 10/12\n",
      "make df\n",
      " We have: 10 selected pairs\n",
      "step 11/12\n",
      "print cumulative return\n",
      "\n",
      "Porfolio rets: 0.3685 CAGR: 0.3668 StdDev: 0.0063 Max DrawDown: -0.0635\n",
      "\n",
      "step 12/12\n",
      "print pairs stuff\n"
     ]
    }
   ],
   "source": [
    "dd12, pnl12, cagr12, stdDev12, maxDD12, dfs12, sr_avg12, sr_std12, dfPort12 = execute(sectorTickers,NoHL=False,checkADF=False,cost_type =None,norel =False, mach= False, nohurst= False)"
   ]
  },
  {
   "cell_type": "markdown",
   "metadata": {},
   "source": [
    "# With fixed 5 dollar commision"
   ]
  },
  {
   "cell_type": "code",
   "execution_count": 61,
   "metadata": {},
   "outputs": [],
   "source": [
    "#dd12f, pnl12f, cagr12f, stdDev12f, maxDD12f, dfs12f, sr_avg12f, sr_std12f, dfPort12f = execute(sectorTickers,NoHL=False,checkADF=False,cost_type ='fixed',norel =False, mach= False, nohurst= False)"
   ]
  },
  {
   "cell_type": "markdown",
   "metadata": {},
   "source": [
    "# With 8 basic point commision"
   ]
  },
  {
   "cell_type": "code",
   "execution_count": 62,
   "metadata": {},
   "outputs": [],
   "source": [
    "#dd12s, pnl12s, cagr12s, stdDev12s, maxDD12s, dfs12s, sr_avg12s, sr_std12s, dfPort12s = execute(sectorTickers,NoHL=False,checkADF=False,cost_type ='share',norel =False, mach= False, nohurst= False)"
   ]
  },
  {
   "cell_type": "markdown",
   "metadata": {},
   "source": [
    "# Cointegration No ADF & Hurst"
   ]
  },
  {
   "cell_type": "code",
   "execution_count": 63,
   "metadata": {},
   "outputs": [
    {
     "name": "stdout",
     "output_type": "stream",
     "text": [
      "step 1/12\n",
      "load data\n",
      "step 2/12\n",
      "clean data\n",
      "step 3/12\n",
      "correlation\n",
      "correlating pairs: 6396\n",
      "step 4/12\n",
      "cointegration\n",
      "\n",
      "cointegrated pairs: 297\n",
      "step 5/12\n",
      "spread and beta\n",
      "\n",
      "sectors: 1\n",
      "pairs: 269\n",
      "step 6/12\n",
      "mean reverting pairs: 0\n",
      "half life\n",
      "\n",
      "sectors: 1\n",
      "pairs: 128\n",
      "step 7/12\n",
      "grid search\n",
      "step 8/12\n",
      "best pairs\n",
      "step 9/12\n",
      "profit and loss\n",
      "PnL avg= 36.85% PnL stddev= 27.17%\n",
      "ShR avg=  1.33 ShR stddev=  0.25\n",
      "step 10/12\n",
      "make df\n",
      " We have: 10 selected pairs\n",
      "step 11/12\n",
      "print cumulative return\n",
      "\n",
      "Porfolio rets: 0.3685 CAGR: 0.3668 StdDev: 0.0063 Max DrawDown: -0.0635\n",
      "\n",
      "step 12/12\n",
      "print pairs stuff\n"
     ]
    }
   ],
   "source": [
    "dd13, pnl13, cagr13, stdDev13, maxDD13, dfs13, sr_avg13, sr_std13, dfPort13 = execute(sectorTickers,NoHL=False,checkADF=False,cost_type =None,norel =False, mach= False, nohurst= True)"
   ]
  },
  {
   "cell_type": "code",
   "execution_count": 64,
   "metadata": {},
   "outputs": [],
   "source": [
    "#dd13f, pnl13f, cagr13f, stdDev13f, maxDD13f, dfs13f, sr_avg13f, sr_std13f, dfPort13f = execute(sectorTickers,NoHL=False,checkADF=False,cost_type ='fixed',norel =False, mach= False, nohurst= True)"
   ]
  },
  {
   "cell_type": "code",
   "execution_count": 65,
   "metadata": {},
   "outputs": [],
   "source": [
    "#dd13s, pnl13s, cagr13s, stdDev13s, maxDD13s, dfs13s, sr_avg13s, sr_std13s, dfPort13s = execute(sectorTickers,NoHL=False,checkADF=False,cost_type ='share',norel =False, mach= False, nohurst= True)"
   ]
  },
  {
   "cell_type": "code",
   "execution_count": null,
   "metadata": {},
   "outputs": [],
   "source": []
  },
  {
   "cell_type": "markdown",
   "metadata": {},
   "source": [
    "# Cointegration process no HL & ADF & Hurst\n"
   ]
  },
  {
   "cell_type": "code",
   "execution_count": 66,
   "metadata": {},
   "outputs": [
    {
     "name": "stdout",
     "output_type": "stream",
     "text": [
      "step 1/12\n",
      "load data\n",
      "step 2/12\n",
      "clean data\n",
      "step 3/12\n",
      "correlation\n",
      "correlating pairs: 6396\n",
      "step 4/12\n",
      "cointegration\n",
      "\n",
      "cointegrated pairs: 297\n",
      "step 5/12\n",
      "spread and beta\n",
      "\n",
      "sectors: 1\n",
      "pairs: 269\n",
      "step 6/12\n",
      "mean reverting pairs: 0\n",
      "half life\n",
      "\n",
      "sectors: 1\n",
      "pairs: 269\n",
      "step 7/12\n",
      "grid search\n",
      "step 8/12\n",
      "best pairs\n",
      "step 9/12\n",
      "profit and loss\n",
      "PnL avg= 37.86% PnL stddev= 26.86%\n",
      "ShR avg=  1.33 ShR stddev=  0.26\n",
      "step 10/12\n",
      "make df\n",
      " We have: 10 selected pairs\n",
      "step 11/12\n",
      "print cumulative return\n",
      "\n",
      "Porfolio rets: 0.3786 CAGR: 0.3769 StdDev: 0.0075 Max DrawDown: -0.0660\n",
      "\n",
      "step 12/12\n",
      "print pairs stuff\n"
     ]
    }
   ],
   "source": [
    "dd14, pnl14, cagr14, stdDev14, maxDD14, dfs14, sr_avg14, sr_std14, dfPort14 = execute(sectorTickers,NoHL=True,checkADF=False,cost_type =None,norel =False, mach= False, nohurst= True)"
   ]
  },
  {
   "cell_type": "markdown",
   "metadata": {},
   "source": [
    "# With 5 dollar commision"
   ]
  },
  {
   "cell_type": "code",
   "execution_count": 67,
   "metadata": {
    "scrolled": true
   },
   "outputs": [],
   "source": [
    "#dd14f, pnl14f, cagr14f, stdDev14f, maxDD14f, dfs14f, sr_avg14f, sr_std14f, dfPort14f = execute(sectorTickers,NoHL=True,checkADF=False,cost_type ='fixed',norel =False, mach= False, nohurst= True)"
   ]
  },
  {
   "cell_type": "markdown",
   "metadata": {},
   "source": [
    "# With 8 basic point commission"
   ]
  },
  {
   "cell_type": "code",
   "execution_count": 68,
   "metadata": {},
   "outputs": [],
   "source": [
    "#dd14s, pnl14s, cagr14s, stdDev14s, maxDD14s, dfs14s, sr_avg14s, sr_std14s, dfPort14s =  execute(sectorTickers,NoHL=True,checkADF=False,cost_type ='share',norel =False, mach= False, nohurst= True)"
   ]
  },
  {
   "cell_type": "markdown",
   "metadata": {},
   "source": [
    "# DBscan selection full process"
   ]
  },
  {
   "cell_type": "code",
   "execution_count": 69,
   "metadata": {
    "scrolled": true
   },
   "outputs": [
    {
     "name": "stdout",
     "output_type": "stream",
     "text": [
      "step 1/12\n",
      "load data\n",
      "step 2/12\n",
      "clean data\n",
      "step 3/12\n",
      "correlation\n",
      "correlating pairs: 10\n",
      "step 4/12\n",
      "cointegration\n",
      "\n",
      "cointegrated pairs: 10\n",
      "step 5/12\n",
      "spread and beta\n",
      "\n",
      "sectors: 1\n",
      "pairs: 10\n",
      "step 6/12\n",
      "mean reverting pairs: 10\n",
      "half life\n",
      "\n",
      "sectors: 1\n",
      "pairs: 10\n",
      "step 7/12\n",
      "grid search\n",
      "step 8/12\n",
      "best pairs\n",
      "step 9/12\n",
      "profit and loss\n",
      "PnL avg=  2.98% PnL stddev=  9.60%\n",
      "ShR avg=  1.01 ShR stddev=  0.04\n",
      "step 10/12\n",
      "make df\n",
      " We have: 10 selected pairs\n",
      "step 11/12\n",
      "print cumulative return\n",
      "\n",
      "Porfolio rets: 0.0298 CAGR: 0.0297 StdDev: 0.0069 Max DrawDown: -0.0946\n",
      "\n",
      "step 12/12\n",
      "print pairs stuff\n"
     ]
    }
   ],
   "source": [
    "dd21, pnl21, cagr21, stdDev21, maxDD21, dfs21, sr_avg21, sr_std21, dfPort21 = execute(sectorTickers,NoHL=False,checkADF=True,cost_type =None,norel =False, mach= True, nohurst= False)"
   ]
  },
  {
   "cell_type": "markdown",
   "metadata": {},
   "source": [
    "# with 5 dollar commision"
   ]
  },
  {
   "cell_type": "code",
   "execution_count": 70,
   "metadata": {},
   "outputs": [],
   "source": [
    "#dd21f, pnl21f, cagr21f, stdDev21f, maxDD21f, dfs21f, sr_avg21f, sr_std21f, dfPort21f =execute(sectorTickers,NoHL=False,checkADF=True,cost_type ='fixed',norel =False, mach= True, nohurst= False)"
   ]
  },
  {
   "cell_type": "markdown",
   "metadata": {},
   "source": [
    "# with 8 basic point commision"
   ]
  },
  {
   "cell_type": "code",
   "execution_count": 71,
   "metadata": {},
   "outputs": [],
   "source": [
    "#dd21s, pnl21s, cagr21s, stdDev21s, maxDD21s, dfs21s, sr_avg21s, sr_std21s, dfPort21s = execute(sectorTickers,NoHL=False,checkADF=True,cost_type ='share',norel =False, mach= True, nohurst= False)"
   ]
  },
  {
   "cell_type": "markdown",
   "metadata": {},
   "source": [
    "# DBscan no AFD"
   ]
  },
  {
   "cell_type": "code",
   "execution_count": 72,
   "metadata": {},
   "outputs": [
    {
     "name": "stdout",
     "output_type": "stream",
     "text": [
      "step 1/12\n",
      "load data\n",
      "step 2/12\n",
      "clean data\n",
      "step 3/12\n",
      "correlation\n",
      "correlating pairs: 10\n",
      "step 4/12\n",
      "cointegration\n",
      "\n",
      "cointegrated pairs: 10\n",
      "step 5/12\n",
      "spread and beta\n",
      "\n",
      "sectors: 1\n",
      "pairs: 10\n",
      "step 6/12\n",
      "mean reverting pairs: 10\n",
      "half life\n",
      "\n",
      "sectors: 1\n",
      "pairs: 10\n",
      "step 7/12\n",
      "grid search\n",
      "step 8/12\n",
      "best pairs\n",
      "step 9/12\n",
      "profit and loss\n",
      "PnL avg=  2.36% PnL stddev=  5.89%\n",
      "ShR avg=  1.01 ShR stddev=  0.02\n",
      "step 10/12\n",
      "make df\n",
      " We have: 10 selected pairs\n",
      "step 11/12\n",
      "print cumulative return\n",
      "\n",
      "Porfolio rets: 0.0236 CAGR: 0.0235 StdDev: 0.0069 Max DrawDown: -0.0917\n",
      "\n",
      "step 12/12\n",
      "print pairs stuff\n"
     ]
    }
   ],
   "source": [
    "dd22, pnl22, cagr22, stdDev22, maxDD22, dfs22, sr_avg22, sr_std22, dfPort22 = execute(sectorTickers,NoHL=False,checkADF=False,cost_type =None,norel =False, mach= True, nohurst= False)"
   ]
  },
  {
   "cell_type": "markdown",
   "metadata": {},
   "source": [
    "# with 5 dollar commision"
   ]
  },
  {
   "cell_type": "code",
   "execution_count": 73,
   "metadata": {},
   "outputs": [],
   "source": [
    "#dd22f, pnl22f, cagr22f, stdDev22f, maxDD22f, dfs22f, sr_avg22f, sr_std22f, dfPort22f =execute(sectorTickers,NoHL=False,checkADF=False,cost_type ='fixed',norel =False, mach= True, nohurst= False)"
   ]
  },
  {
   "cell_type": "markdown",
   "metadata": {},
   "source": [
    "# with 8 basic point commision"
   ]
  },
  {
   "cell_type": "code",
   "execution_count": 74,
   "metadata": {},
   "outputs": [],
   "source": [
    "#dd22s, pnl22s, cagr22s, stdDev22s, maxDD22s, dfs22s, sr_avg22s, sr_std22s, dfPort22s = execute(sectorTickers,NoHL=False,checkADF=False,cost_type ='share',norel =False, mach= True, nohurst= False)"
   ]
  },
  {
   "cell_type": "markdown",
   "metadata": {},
   "source": [
    "# DBscan no ADF & Hurst"
   ]
  },
  {
   "cell_type": "code",
   "execution_count": 75,
   "metadata": {},
   "outputs": [
    {
     "name": "stdout",
     "output_type": "stream",
     "text": [
      "step 1/12\n",
      "load data\n",
      "step 2/12\n",
      "clean data\n",
      "step 3/12\n",
      "correlation\n",
      "correlating pairs: 10\n",
      "step 4/12\n",
      "cointegration\n",
      "\n",
      "cointegrated pairs: 10\n",
      "step 5/12\n",
      "spread and beta\n",
      "\n",
      "sectors: 1\n",
      "pairs: 10\n",
      "step 6/12\n",
      "mean reverting pairs: 0\n",
      "half life\n",
      "\n",
      "sectors: 1\n",
      "pairs: 10\n",
      "step 7/12\n",
      "grid search\n",
      "step 8/12\n",
      "best pairs\n",
      "step 9/12\n",
      "profit and loss\n",
      "PnL avg=  2.36% PnL stddev=  5.89%\n",
      "ShR avg=  1.01 ShR stddev=  0.02\n",
      "step 10/12\n",
      "make df\n",
      " We have: 10 selected pairs\n",
      "step 11/12\n",
      "print cumulative return\n",
      "\n",
      "Porfolio rets: 0.0236 CAGR: 0.0235 StdDev: 0.0069 Max DrawDown: -0.0917\n",
      "\n",
      "step 12/12\n",
      "print pairs stuff\n"
     ]
    }
   ],
   "source": [
    "dd23, pnl23, cagr23, stdDev23, maxDD23, dfs23, sr_avg23, sr_std23, dfPort23 = execute(sectorTickers,NoHL=False,checkADF=False,cost_type =None,norel =False, mach= True, nohurst= True)"
   ]
  },
  {
   "cell_type": "code",
   "execution_count": 76,
   "metadata": {},
   "outputs": [],
   "source": [
    "#dd23f, pnl23f, cagr23f, stdDev23f, maxDD23f, dfs23f, sr_avg23f, sr_std23f, dfPort23f = execute(sectorTickers,NoHL=False,checkADF=False,cost_type ='fixed',norel =False, mach= True, nohurst= True)"
   ]
  },
  {
   "cell_type": "code",
   "execution_count": 77,
   "metadata": {},
   "outputs": [],
   "source": [
    "#dd23s, pnl23s, cagr23s, stdDev23s, maxDD23s, dfs23s, sr_avg23s, sr_std23s, dfPort23s = execute(sectorTickers,NoHL=False,checkADF=False,cost_type ='share',norel =False, mach= True, nohurst= True)"
   ]
  },
  {
   "cell_type": "markdown",
   "metadata": {},
   "source": [
    "# BDscan no Halflife, no ADF & Hurst"
   ]
  },
  {
   "cell_type": "code",
   "execution_count": 78,
   "metadata": {},
   "outputs": [
    {
     "name": "stdout",
     "output_type": "stream",
     "text": [
      "step 1/12\n",
      "load data\n",
      "step 2/12\n",
      "clean data\n",
      "step 3/12\n",
      "correlation\n",
      "correlating pairs: 10\n",
      "step 4/12\n",
      "cointegration\n",
      "\n",
      "cointegrated pairs: 10\n",
      "step 5/12\n",
      "spread and beta\n",
      "\n",
      "sectors: 1\n",
      "pairs: 10\n",
      "step 6/12\n",
      "mean reverting pairs: 0\n",
      "half life\n",
      "\n",
      "sectors: 1\n",
      "pairs: 10\n",
      "step 7/12\n",
      "grid search\n",
      "step 8/12\n",
      "best pairs\n",
      "step 9/12\n",
      "profit and loss\n",
      "PnL avg=  2.36% PnL stddev=  5.89%\n",
      "ShR avg=  1.01 ShR stddev=  0.02\n",
      "step 10/12\n",
      "make df\n",
      " We have: 10 selected pairs\n",
      "step 11/12\n",
      "print cumulative return\n",
      "\n",
      "Porfolio rets: 0.0236 CAGR: 0.0235 StdDev: 0.0069 Max DrawDown: -0.0917\n",
      "\n",
      "step 12/12\n",
      "print pairs stuff\n"
     ]
    }
   ],
   "source": [
    "dd24, pnl24, cagr24, stdDev24, maxDD24, dfs24, sr_avg24, sr_std24, dfPort24 = execute(sectorTickers,NoHL=True,checkADF=False,cost_type =None,norel =False, mach= True, nohurst= True)"
   ]
  },
  {
   "cell_type": "markdown",
   "metadata": {},
   "source": [
    "# with 5 dollar commision"
   ]
  },
  {
   "cell_type": "code",
   "execution_count": 79,
   "metadata": {},
   "outputs": [],
   "source": [
    "#dd24f, pnl24f, cagr24f, stdDev24f, maxDD24f, dfs24f, sr_avg24f, sr_std24f, dfPort24f = execute(sectorTickers,NoHL=True,checkADF=False,cost_type ='fixed',norel =False, mach= True, nohurst= True)"
   ]
  },
  {
   "cell_type": "markdown",
   "metadata": {},
   "source": [
    "# with 8 basic point commision"
   ]
  },
  {
   "cell_type": "code",
   "execution_count": 80,
   "metadata": {},
   "outputs": [],
   "source": [
    "#dd24s, pnl24s, cagr24s, stdDev24s, maxDD24s, dfs24s, sr_avg24s, sr_std24s, dfPort24s = execute(sectorTickers,NoHL=True,checkADF=False,cost_type ='share',norel =False, mach= True, nohurst= True)"
   ]
  },
  {
   "cell_type": "code",
   "execution_count": null,
   "metadata": {},
   "outputs": [],
   "source": []
  },
  {
   "cell_type": "code",
   "execution_count": 81,
   "metadata": {},
   "outputs": [],
   "source": [
    "row1 =[pnl1, cagr1, stdDev1, maxDD1, sr_avg1, sr_std1]\n",
    "#row2 =[pnl1f, cagr1f, stdDev1f, maxDD1f, sr_avg1f, sr_std1f]\n",
    "#row3 =[pnl1s, cagr1s, stdDev1s, maxDD1s, sr_avg1s, sr_std1s]\n",
    "row4 =[pnl12, cagr12, stdDev12, maxDD12, sr_avg12, sr_std12]\n",
    "#row5 =[pnl12f, cagr12f, stdDev12f, maxDD12f, sr_avg12f, sr_std12f]\n",
    "#row6 =[pnl12s, cagr12s, stdDev12s, maxDD12s, sr_avg12s, sr_std12s]\n",
    "row7 =[pnl13, cagr13, stdDev13, maxDD13, sr_avg13, sr_std13]\n",
    "#row8 =[pnl13f, cagr13f, stdDev13f, maxDD13f, sr_avg13f, sr_std13f]\n",
    "#row9 =[pnl13s, cagr13s, stdDev13s, maxDD13s, sr_avg13s, sr_std13s]\n",
    "row10 =[pnl14, cagr14, stdDev14, maxDD14, sr_avg14, sr_std14]\n",
    "#row11 =[pnl14f, cagr14f, stdDev14f, maxDD14f, sr_avg14f, sr_std14f]\n",
    "#row12 =[pnl14s, cagr14s, stdDev14s, maxDD14s, sr_avg14s, sr_std14s]\n",
    "row13 =[pnl21, cagr21, stdDev21, maxDD21, sr_avg21, sr_std21]\n",
    "#row14 =[pnl21f, cagr21f, stdDev21f, maxDD21f, sr_avg21f, sr_std21f]\n",
    "#row15 =[pnl21s, cagr21s, stdDev21s, maxDD21s, sr_avg21s, sr_std21s]\n",
    "row16 =[pnl22, cagr22, stdDev22, maxDD22, sr_avg22, sr_std22]\n",
    "#row17 =[pnl22f, cagr22f, stdDev22f, maxDD22f, sr_avg22f, sr_std22f]\n",
    "#row18 =[pnl22s, cagr22s, stdDev22s, maxDD22s, sr_avg22s, sr_std22s]\n",
    "row19 =[pnl23, cagr23, stdDev23, maxDD23, sr_avg23, sr_std23]\n",
    "#row20 =[pnl23f, cagr23f, stdDev23f, maxDD23f, sr_avg23f, sr_std23f]\n",
    "#row21=[pnl23s, cagr23s, stdDev23s, maxDD23s, sr_avg23s, sr_std23s]\n",
    "row22 =[pnl24, cagr24, stdDev24, maxDD24, sr_avg24, sr_std24]\n",
    "#row23 =[pnl24f, cagr24f, stdDev24f, maxDD24f, sr_avg24f, sr_std24f]\n",
    "#row24 =[pnl24s, cagr24s, stdDev24s, maxDD24s, sr_avg24s, sr_std24s]\n",
    "\n",
    "data = {'': ['Profit loss', 'CAGR', 'CAGR standard dev', 'Max Drawdown', 'Sharpe ratio', 'Shape ratio standard dev'],\n",
    "        'Full': row1,\n",
    "        #'Full + fix': row2,\n",
    "        #'Full + share': row3,\n",
    "        '-ADF': row4,\n",
    "        #'-ADF + fix': row5,\n",
    "        #'-ADF + share': row6,\n",
    "        '-ADF - Hurst': row7,\n",
    "        #'-ADF - Hurst + fix': row8,\n",
    "        #'-ADF - Hurst + share': row9,\n",
    "        '-ADF - HL - Hurst': row10,\n",
    "        #'-ADF - HL - Hurst + fix': row11,\n",
    "        #'-ADF - HL - Hurst + share': row12,\n",
    "        'DBscan full': row13,\n",
    "        #'DBscan full + fix': row14,\n",
    "        #'DBscan full + share': row15,\n",
    "        'DBscan - ADF': row16,\n",
    "        #'DBscan - ADF + fix': row17,\n",
    "        #'DBscan - ADF + share': row18,\n",
    "        'DBscan - ADF - Hurst': row19,\n",
    "        #'DBscan - ADF - Hurst + fix': row20,\n",
    "        #'DBscan - ADF - Hurst + share': row21,\n",
    "        'DBscan - ADF - HL - Hurst': row22,\n",
    "        #'DBscan - ADF - HL - Hurst + fix': row23,\n",
    "        #'DBscan - ADF - HL - Hurst + share': row24\n",
    "        }\n",
    "\n",
    "dat = {\n",
    "        'Full dd': dd1,\n",
    "        'Full port': dfPort1['portfolio'],\n",
    "        #'Full + fix dd': dd1f,\n",
    "        #'Full + fix port':dfPort1f['portfolio'],\n",
    "        #'Full + share dd': dd1s,\n",
    "        #'Full + share port': dfPort1s['portfolio'],\n",
    "        '-ADF dd': dd12,\n",
    "        '-ADF port': dfPort12['portfolio'],\n",
    "        #'-ADF + fix dd': dd12f,\n",
    "        #'-ADF + fix port': dfPort12f['portfolio'],\n",
    "        #'-ADF + share dd': dd12s,\n",
    "        #'-ADF + share port':dfPort12s['portfolio'],\n",
    "        '-ADF - Hurst dd': dd13,\n",
    "        '-ADF - Hurst port': dfPort13['portfolio'],\n",
    "        #'-ADF - Hurst + fix dd': dd13f,\n",
    "        #'-ADF - Hurst + fix port': dfPort13f['portfolio'],\n",
    "        #'-ADF - Hurst + share dd': dd13s,\n",
    "        #'-ADF - Hurst + share port': dfPort13s['portfolio'], \n",
    "        '-ADF - HL - Hurst dd': dd14,\n",
    "        '-ADF - HL - Hurst port': dfPort14['portfolio'],\n",
    "        #'-ADF - HL - Hurst + fix dd': dd14f, \n",
    "        #'-ADF - HL - Hurst + fix port': dfPort14f['portfolio'],\n",
    "        #'-ADF - HL - Hurst + share dd': dd14s,\n",
    "        #'-ADF - HL - Hurst + share port': dfPort14s['portfolio'],\n",
    "        'DBscan Full dd': dd21,\n",
    "        'DBscan Full port': dfPort21['portfolio'],\n",
    "        #'DBscan Full + fix dd': dd21f,\n",
    "        #'DBscan Full + fix port':dfPort21f['portfolio'],\n",
    "        #'DBscan Full + share dd': dd21s,\n",
    "        #'DBscan Full + share port': dfPort21s['portfolio'],\n",
    "        'DBscan -ADF dd': dd22,\n",
    "        'DBscan -ADF port': dfPort22['portfolio'],\n",
    "        #'DBscan -ADF + fix dd': dd22f,\n",
    "        #'DBscan -ADF + fix port': dfPort22f['portfolio'],\n",
    "        #'DBscan -ADF + share dd': dd22s,\n",
    "        #'DBscan -ADF + share port':dfPort22s['portfolio'],\n",
    "        'DBscan -ADF - Hurst dd': dd23,\n",
    "        'DBscan -ADF - Hurst port': dfPort23['portfolio'],\n",
    "        #'DBscan -ADF - Hurst + fix dd': dd23f,\n",
    "        #'DBscan -ADF - Hurst + fix port': dfPort23f['portfolio'],\n",
    "        #'DBscan -ADF - Hurst + share dd': dd23s,\n",
    "        #'DBscan -ADF - Hurst + share port': dfPort23s['portfolio'], \n",
    "        'DBscan -ADF - Hurst - Beta dd': dd24,\n",
    "        'DBscan -ADF - Hurst - Beta port': dfPort24['portfolio'],\n",
    "        #'DBscan -ADF - Hurst - Beta + fix dd': dd24f, \n",
    "        #'DBscan -ADF - Hurst - Beta + fix port': dfPort24f['portfolio'],\n",
    "        #'DBscan -ADF - Hurst - Beta + share dd': dd24s,\n",
    "        #'DBscan -ADF - Hurst - Beta + share dd': dfPort24s['portfolio'],\n",
    "       \n",
    "      \n",
    "        }\n",
    "\n",
    "\n",
    "df_final = pd.DataFrame(data)\n",
    "df_final = df_final.set_index('')\n",
    "df_final.to_csv('df_final_13_15.csv')\n",
    "\n",
    "df_plots = pd.DataFrame(dat)\n",
    "df_plots.to_csv('df_plots_13_15.csv')"
   ]
  },
  {
   "cell_type": "code",
   "execution_count": null,
   "metadata": {},
   "outputs": [],
   "source": []
  }
 ],
 "metadata": {
  "colab": {
   "name": "Seminar.ipynb",
   "provenance": []
  },
  "kernelspec": {
   "display_name": "Python 3",
   "language": "python",
   "name": "python3"
  },
  "language_info": {
   "codemirror_mode": {
    "name": "ipython",
    "version": 3
   },
   "file_extension": ".py",
   "mimetype": "text/x-python",
   "name": "python",
   "nbconvert_exporter": "python",
   "pygments_lexer": "ipython3",
   "version": "3.8.8"
  }
 },
 "nbformat": 4,
 "nbformat_minor": 1
}
